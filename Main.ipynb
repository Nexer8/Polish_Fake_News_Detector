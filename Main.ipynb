{
  "nbformat": 4,
  "nbformat_minor": 0,
  "metadata": {
    "colab": {
      "name": "Main.ipynb",
      "provenance": [],
      "collapsed_sections": [],
      "toc_visible": true
    },
    "kernelspec": {
      "name": "python3",
      "display_name": "Python 3"
    },
    "language_info": {
      "name": "python"
    }
  },
  "cells": [
    {
      "cell_type": "markdown",
      "metadata": {
        "id": "cX-nXlspqesI"
      },
      "source": [
        "# Imports"
      ]
    },
    {
      "cell_type": "code",
      "metadata": {
        "id": "7rvdXqfSKPXc",
        "colab": {
          "base_uri": "https://localhost:8080/"
        },
        "outputId": "12dda64a-a913-4d1e-a29e-ce206e137cd5"
      },
      "source": [
        "!pip install -i https://pypi.clarin-pl.eu lpmn_client"
      ],
      "execution_count": 1,
      "outputs": [
        {
          "output_type": "stream",
          "text": [
            "Looking in indexes: https://pypi.clarin-pl.eu\n",
            "Requirement already satisfied: lpmn_client in /usr/local/lib/python3.7/dist-packages (1.3.5.9)\n",
            "Requirement already satisfied: pyyaml in /usr/local/lib/python3.7/dist-packages (from lpmn_client) (3.13)\n",
            "Requirement already satisfied: requests in /usr/local/lib/python3.7/dist-packages (from lpmn_client) (2.23.0)\n",
            "Requirement already satisfied: chardet<4,>=3.0.2 in /usr/local/lib/python3.7/dist-packages (from requests->lpmn_client) (3.0.4)\n",
            "Requirement already satisfied: idna<3,>=2.5 in /usr/local/lib/python3.7/dist-packages (from requests->lpmn_client) (2.10)\n",
            "Requirement already satisfied: certifi>=2017.4.17 in /usr/local/lib/python3.7/dist-packages (from requests->lpmn_client) (2020.12.5)\n",
            "Requirement already satisfied: urllib3!=1.25.0,!=1.25.1,<1.26,>=1.21.1 in /usr/local/lib/python3.7/dist-packages (from requests->lpmn_client) (1.24.3)\n"
          ],
          "name": "stdout"
        }
      ]
    },
    {
      "cell_type": "code",
      "metadata": {
        "colab": {
          "base_uri": "https://localhost:8080/"
        },
        "id": "uxS2kfBwqdar",
        "outputId": "c497b5ea-213d-4111-fa81-be08f246e010"
      },
      "source": [
        "from google.colab import drive\n",
        "drive.mount('/content/drive')\n",
        "\n",
        "import pandas as pd\n",
        "import numpy as np\n",
        "import seaborn as sns\n",
        "from scipy import stats\n",
        "import re, string\n",
        "from sklearn.feature_extraction.text import CountVectorizer, TfidfVectorizer\n",
        "from tensorflow.keras.callbacks import EarlyStopping\n",
        "from sklearn.model_selection import train_test_split\n",
        "from keras.layers import Dense, Embedding, LSTM\n",
        "from keras.models import Sequential\n",
        "from keras.preprocessing.sequence import pad_sequences\n",
        "from keras.preprocessing.text import Tokenizer\n",
        "from lpmn_client.src.requester import Requester\n",
        "import zipfile\n",
        "from tensorflow.keras.utils import to_categorical\n",
        "import xml.etree.ElementTree as ET\n",
        "\n",
        "\n"
      ],
      "execution_count": 2,
      "outputs": [
        {
          "output_type": "stream",
          "text": [
            "Drive already mounted at /content/drive; to attempt to forcibly remount, call drive.mount(\"/content/drive\", force_remount=True).\n"
          ],
          "name": "stdout"
        }
      ]
    },
    {
      "cell_type": "markdown",
      "metadata": {
        "id": "8c1FijT1mrnh"
      },
      "source": [
        "# Data loading"
      ]
    },
    {
      "cell_type": "code",
      "metadata": {
        "id": "-dy75juyZrT2",
        "colab": {
          "base_uri": "https://localhost:8080/",
          "height": 419
        },
        "outputId": "b8f90b9f-9463-41f1-e980-e3a9c3311871"
      },
      "source": [
        "data_path = '/content/drive/MyDrive/ZIwG P/citations.csv'\n",
        "pd.set_option('display.max_rows', 10)\n",
        "pd.set_option('display.max_colwidth', 120)\n",
        "\n",
        "df = pd.read_csv(data_path)\n",
        "df = df.dropna()\n",
        "df = df.reset_index(drop=True)\n",
        "# df.info()\n",
        "\n",
        "classes_names = {0: 'Fałsz', 1: 'Prawda', 2: \"Manipulacja\", 3: \"Nieweryfikowalne\"}\n",
        "df['label'].replace({'Fałsz': 0, 'Prawda': 1, 'Manipulacja': 2, 'Nieweryfikowalne': 3}, inplace=True)\n",
        "df = df[(df['label'] == 0) | (df['label'] == 1)]\n",
        "# X.head()\n",
        "# y.head(10)\n",
        "df"
      ],
      "execution_count": 3,
      "outputs": [
        {
          "output_type": "execute_result",
          "data": {
            "text/html": [
              "<div>\n",
              "<style scoped>\n",
              "    .dataframe tbody tr th:only-of-type {\n",
              "        vertical-align: middle;\n",
              "    }\n",
              "\n",
              "    .dataframe tbody tr th {\n",
              "        vertical-align: top;\n",
              "    }\n",
              "\n",
              "    .dataframe thead th {\n",
              "        text-align: right;\n",
              "    }\n",
              "</style>\n",
              "<table border=\"1\" class=\"dataframe\">\n",
              "  <thead>\n",
              "    <tr style=\"text-align: right;\">\n",
              "      <th></th>\n",
              "      <th>content</th>\n",
              "      <th>author</th>\n",
              "      <th>label</th>\n",
              "    </tr>\n",
              "  </thead>\n",
              "  <tbody>\n",
              "    <tr>\n",
              "      <th>0</th>\n",
              "      <td>O ile my podnieśliśmy pensję minimalną w czasie 8 lat? (…) o ponad 90 proc.</td>\n",
              "      <td>Izabela Leszczyna</td>\n",
              "      <td>0</td>\n",
              "    </tr>\n",
              "    <tr>\n",
              "      <th>1</th>\n",
              "      <td>W rankingu praworządności World Justice Project w 2020 r. Polska znów spadła na niższą pozycję.</td>\n",
              "      <td>Hanna Gill-Piątek</td>\n",
              "      <td>1</td>\n",
              "    </tr>\n",
              "    <tr>\n",
              "      <th>2</th>\n",
              "      <td>Na Uniwersytecie Warszawskim powstał taki raport, który jest oczywiście państwu znany, z którego wyraźnie wynika, że...</td>\n",
              "      <td>Dariusz Rosati</td>\n",
              "      <td>1</td>\n",
              "    </tr>\n",
              "    <tr>\n",
              "      <th>3</th>\n",
              "      <td>Średnia emerytura w Polsce kobiet i mężczyzn różni się aż o 1000 zł.</td>\n",
              "      <td>Małgorzata Kidawa-Błońska</td>\n",
              "      <td>1</td>\n",
              "    </tr>\n",
              "    <tr>\n",
              "      <th>4</th>\n",
              "      <td>Proszę mi pokazać (…) jedną osobę skazaną przez Trybunał Stanu od czasu, kiedy Trybunał Stanu w Polsce, wolnej, tak ...</td>\n",
              "      <td>Paweł Kukiz</td>\n",
              "      <td>0</td>\n",
              "    </tr>\n",
              "    <tr>\n",
              "      <th>...</th>\n",
              "      <td>...</td>\n",
              "      <td>...</td>\n",
              "      <td>...</td>\n",
              "    </tr>\n",
              "    <tr>\n",
              "      <th>4330</th>\n",
              "      <td>Chroniliście SKOK-i, chroniliście swoich kolesi. Dlatego z budżetu państwa ponad 4,5 mld zł trzeba było im wypłacić.</td>\n",
              "      <td>Borys Budka</td>\n",
              "      <td>1</td>\n",
              "    </tr>\n",
              "    <tr>\n",
              "      <th>4332</th>\n",
              "      <td>Jeżeli chodzi o penalizację homoseksualizmu, to w Polsce nigdy czegoś takiego nie było. Ani za I Rzeczypospolitej, a...</td>\n",
              "      <td>Kosma Złotowski</td>\n",
              "      <td>0</td>\n",
              "    </tr>\n",
              "    <tr>\n",
              "      <th>4333</th>\n",
              "      <td>Rządowy Fundusz Inwestycji Lokalnych na Pomorzu – największy beneficjent gmina miasta Gdańsk.</td>\n",
              "      <td>Marcin Horała</td>\n",
              "      <td>1</td>\n",
              "    </tr>\n",
              "    <tr>\n",
              "      <th>4334</th>\n",
              "      <td>Zarówno WHO, EMA, czyli Europejska Agencja Leków, jak i polskie instytucje, w tym Urząd Rejestracji Produktów Leczni...</td>\n",
              "      <td>Michał Dworczyk</td>\n",
              "      <td>1</td>\n",
              "    </tr>\n",
              "    <tr>\n",
              "      <th>4335</th>\n",
              "      <td>W żadnym z tych krajów (które zawiesiły stosowanie szczepionki AstraZeneca – przyp. Demagog) nie ustalono, że taki z...</td>\n",
              "      <td>Michał Dworczyk</td>\n",
              "      <td>1</td>\n",
              "    </tr>\n",
              "  </tbody>\n",
              "</table>\n",
              "<p>3569 rows × 3 columns</p>\n",
              "</div>"
            ],
            "text/plain": [
              "                                                                                                                      content  ... label\n",
              "0                                                 O ile my podnieśliśmy pensję minimalną w czasie 8 lat? (…) o ponad 90 proc.  ...     0\n",
              "1                             W rankingu praworządności World Justice Project w 2020 r. Polska znów spadła na niższą pozycję.  ...     1\n",
              "2     Na Uniwersytecie Warszawskim powstał taki raport, który jest oczywiście państwu znany, z którego wyraźnie wynika, że...  ...     1\n",
              "3                                                        Średnia emerytura w Polsce kobiet i mężczyzn różni się aż o 1000 zł.  ...     1\n",
              "4     Proszę mi pokazać (…) jedną osobę skazaną przez Trybunał Stanu od czasu, kiedy Trybunał Stanu w Polsce, wolnej, tak ...  ...     0\n",
              "...                                                                                                                       ...  ...   ...\n",
              "4330     Chroniliście SKOK-i, chroniliście swoich kolesi. Dlatego z budżetu państwa ponad 4,5 mld zł trzeba było im wypłacić.  ...     1\n",
              "4332  Jeżeli chodzi o penalizację homoseksualizmu, to w Polsce nigdy czegoś takiego nie było. Ani za I Rzeczypospolitej, a...  ...     0\n",
              "4333                            Rządowy Fundusz Inwestycji Lokalnych na Pomorzu – największy beneficjent gmina miasta Gdańsk.  ...     1\n",
              "4334  Zarówno WHO, EMA, czyli Europejska Agencja Leków, jak i polskie instytucje, w tym Urząd Rejestracji Produktów Leczni...  ...     1\n",
              "4335  W żadnym z tych krajów (które zawiesiły stosowanie szczepionki AstraZeneca – przyp. Demagog) nie ustalono, że taki z...  ...     1\n",
              "\n",
              "[3569 rows x 3 columns]"
            ]
          },
          "metadata": {
            "tags": []
          },
          "execution_count": 3
        }
      ]
    },
    {
      "cell_type": "markdown",
      "metadata": {
        "id": "8iOqXFSDmxdw"
      },
      "source": [
        "# Text preprocessing"
      ]
    },
    {
      "cell_type": "code",
      "metadata": {
        "id": "ah8YXWTVZ0A7"
      },
      "source": [
        "def remove_punctuation(text):\n",
        "    no_punctuation_text = \"\".join([char for char in text if char not in string.punctuation])\n",
        "    return no_punctuation_text\n",
        "\n",
        "def lemmatize(text):\n",
        "    requester = Requester('241393@student.pwr.edu.pl')\n",
        "    lpmn_query = 'any2txt|wcrft2({\"guesser\":false, \"morfeusz2\":true})'\n",
        "\n",
        "    string_ids = requester.upload_strings([text])\n",
        "    response = requester.process_query(lpmn_query, [id.text for id in string_ids])\n",
        "    requester.download_response(response[0], './lem.zip')\n",
        "\n",
        "    archive = zipfile.ZipFile('lem.zip', 'r')\n",
        "    data = archive.read(archive.namelist()[0])\n",
        "\n",
        "    text = [word.text for word in ET.fromstring(data).findall('chunk/sentence/tok/lex/base')]\n",
        "    return text\n",
        "\n",
        "\n",
        "def tokenize(text):\n",
        "    tokens = re.split('\\W+', text)\n",
        "    text = [word for word in tokens]\n",
        "    return text\n",
        "\n",
        "def remove_stopwords(text):\n",
        "    requester = Requester('241393@student.pwr.edu.pl')\n",
        "    lpmn_query = 'any2txt|morphoDita|dir|termopl2({\\\"mw\\\":false,\\\"sw\\\":\\\"/resources/termopl/termopl_sw.txt\\\",' \\\n",
        "                 '\\\"cp\\\":\\\"/resources/termopl/termopl_cp.txt\\\"}) '\n",
        "\n",
        "    string_ids = requester.upload_strings([text])\n",
        "    response = requester.process_query(lpmn_query, [string_id.text for string_id in string_ids])\n",
        "    requester.download_response(response[0], './no_stopwords.zip')\n",
        "\n",
        "    with zipfile.ZipFile('no_stopwords.zip', 'r') as archive:\n",
        "        with archive.open(archive.namelist()[0]) as data:\n",
        "            column_names = ['idx', 'ranking', 'output_phrase', 'original_phrase', 'c-value',\n",
        "                            'length', 'freq_s', 'freq_in', 'context']\n",
        "            df = pd.read_csv(data, sep='\\t', names=column_names)\n",
        "\n",
        "    lemmatized_text_without_stopwords = df['output_phrase'].tolist()\n",
        "    return lemmatized_text_without_stopwords\n",
        "\n",
        "\n",
        "#TODO when we decide what how to preprocess text\n",
        "# now it is just copy-paste from online course\n",
        "def clean_text(text):\n",
        "    text = \"\".join([word.lower() for word in text if word not in string.punctuation])\n",
        "    tokens = re.split('\\W+', text)\n",
        "    text = [word for word in tokens]\n",
        "    return text\n"
      ],
      "execution_count": 4,
      "outputs": []
    },
    {
      "cell_type": "code",
      "metadata": {
        "colab": {
          "base_uri": "https://localhost:8080/",
          "height": 442
        },
        "id": "JwPjKIVfPRCQ",
        "outputId": "40e1c4d2-840a-48b2-bd0f-1f7f499425c7"
      },
      "source": [
        "# Took only 5 first elements to demonstrate the output\n",
        "df['lemmatized'] = df['content'][:5].apply(lambda x: lemmatize(x))\n",
        "df.head()"
      ],
      "execution_count": 5,
      "outputs": [
        {
          "output_type": "stream",
          "text": [
            "\n",
            "Processing query complete, file id /requests/makezip/dfd53cb3-a498-4e53-a787-b2860bf325a0\n",
            "\n",
            "Processing query complete, file id /requests/makezip/681f200d-9ffb-444b-963b-0808b4f50fd7\n",
            "\n",
            "Processing query complete, file id /requests/makezip/f997cfac-4c23-4249-b3a1-e0003ebfdc7f\n",
            "\n",
            "Processing query complete, file id /requests/makezip/fcfcce65-6c82-46b5-9b90-8428dc58feeb\n",
            "\n",
            "Processing query complete, file id /requests/makezip/3aa1e7d7-d4ff-4921-8a58-5a9728521d98\n"
          ],
          "name": "stdout"
        },
        {
          "output_type": "execute_result",
          "data": {
            "text/html": [
              "<div>\n",
              "<style scoped>\n",
              "    .dataframe tbody tr th:only-of-type {\n",
              "        vertical-align: middle;\n",
              "    }\n",
              "\n",
              "    .dataframe tbody tr th {\n",
              "        vertical-align: top;\n",
              "    }\n",
              "\n",
              "    .dataframe thead th {\n",
              "        text-align: right;\n",
              "    }\n",
              "</style>\n",
              "<table border=\"1\" class=\"dataframe\">\n",
              "  <thead>\n",
              "    <tr style=\"text-align: right;\">\n",
              "      <th></th>\n",
              "      <th>content</th>\n",
              "      <th>author</th>\n",
              "      <th>label</th>\n",
              "      <th>lemmatized</th>\n",
              "    </tr>\n",
              "  </thead>\n",
              "  <tbody>\n",
              "    <tr>\n",
              "      <th>0</th>\n",
              "      <td>O ile my podnieśliśmy pensję minimalną w czasie 8 lat? (…) o ponad 90 proc.</td>\n",
              "      <td>Izabela Leszczyna</td>\n",
              "      <td>0</td>\n",
              "      <td>[o, ile, my, podnieść, być, pensja, minimalny, w, czas, 8, lato, ?, (, …, ), o, ponad, 90, proca, .]</td>\n",
              "    </tr>\n",
              "    <tr>\n",
              "      <th>1</th>\n",
              "      <td>W rankingu praworządności World Justice Project w 2020 r. Polska znów spadła na niższą pozycję.</td>\n",
              "      <td>Hanna Gill-Piątek</td>\n",
              "      <td>1</td>\n",
              "      <td>[w, ranking, praworządność, World, Justice, Project, w, 2020, r, ., Polska, znów, spadły, na, niski, pozycja, .]</td>\n",
              "    </tr>\n",
              "    <tr>\n",
              "      <th>2</th>\n",
              "      <td>Na Uniwersytecie Warszawskim powstał taki raport, który jest oczywiście państwu znany, z którego wyraźnie wynika, że...</td>\n",
              "      <td>Dariusz Rosati</td>\n",
              "      <td>1</td>\n",
              "      <td>[na, uniwersytet, Warszawskie, powstać, taki, raport, ,, który, być, oczywiście, państwo, znany, ,, z, który, wyraźn...</td>\n",
              "    </tr>\n",
              "    <tr>\n",
              "      <th>3</th>\n",
              "      <td>Średnia emerytura w Polsce kobiet i mężczyzn różni się aż o 1000 zł.</td>\n",
              "      <td>Małgorzata Kidawa-Błońska</td>\n",
              "      <td>1</td>\n",
              "      <td>[średnia, emerytura, w, Polska, kobieta, i, mężczyzna, różny, się, aż, o, 1000, złoty, .]</td>\n",
              "    </tr>\n",
              "    <tr>\n",
              "      <th>4</th>\n",
              "      <td>Proszę mi pokazać (…) jedną osobę skazaną przez Trybunał Stanu od czasu, kiedy Trybunał Stanu w Polsce, wolnej, tak ...</td>\n",
              "      <td>Paweł Kukiz</td>\n",
              "      <td>0</td>\n",
              "      <td>[prosić, mi, pokazać, (, …, ), jeden, osoba, skazana, przez, trybunał, stan, od, czas, ,, kiedy, trybunał, stan, w, ...</td>\n",
              "    </tr>\n",
              "  </tbody>\n",
              "</table>\n",
              "</div>"
            ],
            "text/plain": [
              "                                                                                                                   content  ...                                                                                                               lemmatized\n",
              "0                                              O ile my podnieśliśmy pensję minimalną w czasie 8 lat? (…) o ponad 90 proc.  ...                     [o, ile, my, podnieść, być, pensja, minimalny, w, czas, 8, lato, ?, (, …, ), o, ponad, 90, proca, .]\n",
              "1                          W rankingu praworządności World Justice Project w 2020 r. Polska znów spadła na niższą pozycję.  ...         [w, ranking, praworządność, World, Justice, Project, w, 2020, r, ., Polska, znów, spadły, na, niski, pozycja, .]\n",
              "2  Na Uniwersytecie Warszawskim powstał taki raport, który jest oczywiście państwu znany, z którego wyraźnie wynika, że...  ...  [na, uniwersytet, Warszawskie, powstać, taki, raport, ,, który, być, oczywiście, państwo, znany, ,, z, który, wyraźn...\n",
              "3                                                     Średnia emerytura w Polsce kobiet i mężczyzn różni się aż o 1000 zł.  ...                                [średnia, emerytura, w, Polska, kobieta, i, mężczyzna, różny, się, aż, o, 1000, złoty, .]\n",
              "4  Proszę mi pokazać (…) jedną osobę skazaną przez Trybunał Stanu od czasu, kiedy Trybunał Stanu w Polsce, wolnej, tak ...  ...  [prosić, mi, pokazać, (, …, ), jeden, osoba, skazana, przez, trybunał, stan, od, czas, ,, kiedy, trybunał, stan, w, ...\n",
              "\n",
              "[5 rows x 4 columns]"
            ]
          },
          "metadata": {
            "tags": []
          },
          "execution_count": 5
        }
      ]
    },
    {
      "cell_type": "code",
      "metadata": {
        "colab": {
          "base_uri": "https://localhost:8080/",
          "height": 476
        },
        "id": "z1oLSenGPFEx",
        "outputId": "4c9af71a-8386-4dc7-9c70-b73f7601b2ea"
      },
      "source": [
        "df['lemmatized_without_stopwords'] = df['content'][:5].apply(lambda x: remove_stopwords(x))\n",
        "df.head()"
      ],
      "execution_count": 6,
      "outputs": [
        {
          "output_type": "stream",
          "text": [
            "\rProcessing query in progress... |----------------------------------------------------------------------------------------------------| 0.0% percent complete\r\n",
            "Processing query complete, file id /requests/makezip/08622dfe-77d3-4d1b-8526-d8e95a04fca8\n",
            "\n",
            "Processing query complete, file id /requests/makezip/848ace14-d7df-4c38-80f9-47693161650c\n",
            "\n",
            "Processing query complete, file id /requests/makezip/cce20e30-df11-415f-9f8a-02131efb3636\n",
            "\n",
            "Processing query complete, file id /requests/makezip/c111a862-ad3b-48b0-956c-e22fa8cfc4c4\n",
            "\n",
            "Processing query complete, file id /requests/makezip/2a4d4eef-9736-4e01-9599-79d1188feb22\n"
          ],
          "name": "stdout"
        },
        {
          "output_type": "execute_result",
          "data": {
            "text/html": [
              "<div>\n",
              "<style scoped>\n",
              "    .dataframe tbody tr th:only-of-type {\n",
              "        vertical-align: middle;\n",
              "    }\n",
              "\n",
              "    .dataframe tbody tr th {\n",
              "        vertical-align: top;\n",
              "    }\n",
              "\n",
              "    .dataframe thead th {\n",
              "        text-align: right;\n",
              "    }\n",
              "</style>\n",
              "<table border=\"1\" class=\"dataframe\">\n",
              "  <thead>\n",
              "    <tr style=\"text-align: right;\">\n",
              "      <th></th>\n",
              "      <th>content</th>\n",
              "      <th>author</th>\n",
              "      <th>label</th>\n",
              "      <th>lemmatized</th>\n",
              "      <th>lemmatized_without_stopwords</th>\n",
              "    </tr>\n",
              "  </thead>\n",
              "  <tbody>\n",
              "    <tr>\n",
              "      <th>0</th>\n",
              "      <td>O ile my podnieśliśmy pensję minimalną w czasie 8 lat? (…) o ponad 90 proc.</td>\n",
              "      <td>Izabela Leszczyna</td>\n",
              "      <td>0</td>\n",
              "      <td>[o, ile, my, podnieść, być, pensja, minimalny, w, czas, 8, lato, ?, (, …, ), o, ponad, 90, proca, .]</td>\n",
              "      <td>[pensja minimalny, pensja]</td>\n",
              "    </tr>\n",
              "    <tr>\n",
              "      <th>1</th>\n",
              "      <td>W rankingu praworządności World Justice Project w 2020 r. Polska znów spadła na niższą pozycję.</td>\n",
              "      <td>Hanna Gill-Piątek</td>\n",
              "      <td>1</td>\n",
              "      <td>[w, ranking, praworządność, World, Justice, Project, w, 2020, r, ., Polska, znów, spadły, na, niski, pozycja, .]</td>\n",
              "      <td>[niski pozycja, ranking praworządność, Project, Polska, praworządność, ranking, pozycja]</td>\n",
              "    </tr>\n",
              "    <tr>\n",
              "      <th>2</th>\n",
              "      <td>Na Uniwersytecie Warszawskim powstał taki raport, który jest oczywiście państwu znany, z którego wyraźnie wynika, że...</td>\n",
              "      <td>Dariusz Rosati</td>\n",
              "      <td>1</td>\n",
              "      <td>[na, uniwersytet, Warszawskie, powstać, taki, raport, ,, który, być, oczywiście, państwo, znany, ,, z, który, wyraźn...</td>\n",
              "      <td>[spółka skarb państwo, uniwersytet warszawski, spory kwota, szczególny preferencja, reklama medialny, zamówienie rek...</td>\n",
              "    </tr>\n",
              "    <tr>\n",
              "      <th>3</th>\n",
              "      <td>Średnia emerytura w Polsce kobiet i mężczyzn różni się aż o 1000 zł.</td>\n",
              "      <td>Małgorzata Kidawa-Błońska</td>\n",
              "      <td>1</td>\n",
              "      <td>[średnia, emerytura, w, Polska, kobieta, i, mężczyzna, różny, się, aż, o, 1000, złoty, .]</td>\n",
              "      <td>[Polska kobieta, średni emerytura, mężczyzna, emerytura, kobieta, Polska]</td>\n",
              "    </tr>\n",
              "    <tr>\n",
              "      <th>4</th>\n",
              "      <td>Proszę mi pokazać (…) jedną osobę skazaną przez Trybunał Stanu od czasu, kiedy Trybunał Stanu w Polsce, wolnej, tak ...</td>\n",
              "      <td>Paweł Kukiz</td>\n",
              "      <td>0</td>\n",
              "      <td>[prosić, mi, pokazać, (, …, ), jeden, osoba, skazana, przez, trybunał, stan, od, czas, ,, kiedy, trybunał, stan, w, ...</td>\n",
              "      <td>[trybunał stan, jeden osoba skazać, urzędnik państwowy, człowiek, czas, Polska, korupcja, malwersacja, jeden osoba, ...</td>\n",
              "    </tr>\n",
              "  </tbody>\n",
              "</table>\n",
              "</div>"
            ],
            "text/plain": [
              "                                                                                                                   content  ...                                                                                             lemmatized_without_stopwords\n",
              "0                                              O ile my podnieśliśmy pensję minimalną w czasie 8 lat? (…) o ponad 90 proc.  ...                                                                                               [pensja minimalny, pensja]\n",
              "1                          W rankingu praworządności World Justice Project w 2020 r. Polska znów spadła na niższą pozycję.  ...                                 [niski pozycja, ranking praworządność, Project, Polska, praworządność, ranking, pozycja]\n",
              "2  Na Uniwersytecie Warszawskim powstał taki raport, który jest oczywiście państwu znany, z którego wyraźnie wynika, że...  ...  [spółka skarb państwo, uniwersytet warszawski, spory kwota, szczególny preferencja, reklama medialny, zamówienie rek...\n",
              "3                                                     Średnia emerytura w Polsce kobiet i mężczyzn różni się aż o 1000 zł.  ...                                                [Polska kobieta, średni emerytura, mężczyzna, emerytura, kobieta, Polska]\n",
              "4  Proszę mi pokazać (…) jedną osobę skazaną przez Trybunał Stanu od czasu, kiedy Trybunał Stanu w Polsce, wolnej, tak ...  ...  [trybunał stan, jeden osoba skazać, urzędnik państwowy, człowiek, czas, Polska, korupcja, malwersacja, jeden osoba, ...\n",
              "\n",
              "[5 rows x 5 columns]"
            ]
          },
          "metadata": {
            "tags": []
          },
          "execution_count": 6
        }
      ]
    },
    {
      "cell_type": "code",
      "metadata": {
        "colab": {
          "base_uri": "https://localhost:8080/",
          "height": 357
        },
        "id": "lZ7-2hMpVSxG",
        "outputId": "7ae238a5-c605-4bcb-a56a-dd695a4b16b3"
      },
      "source": [
        "df['clean_text'] = df['content'].apply(lambda x: clean_text(x))\n",
        "df.head()"
      ],
      "execution_count": 7,
      "outputs": [
        {
          "output_type": "execute_result",
          "data": {
            "text/html": [
              "<div>\n",
              "<style scoped>\n",
              "    .dataframe tbody tr th:only-of-type {\n",
              "        vertical-align: middle;\n",
              "    }\n",
              "\n",
              "    .dataframe tbody tr th {\n",
              "        vertical-align: top;\n",
              "    }\n",
              "\n",
              "    .dataframe thead th {\n",
              "        text-align: right;\n",
              "    }\n",
              "</style>\n",
              "<table border=\"1\" class=\"dataframe\">\n",
              "  <thead>\n",
              "    <tr style=\"text-align: right;\">\n",
              "      <th></th>\n",
              "      <th>content</th>\n",
              "      <th>author</th>\n",
              "      <th>label</th>\n",
              "      <th>lemmatized</th>\n",
              "      <th>lemmatized_without_stopwords</th>\n",
              "      <th>clean_text</th>\n",
              "    </tr>\n",
              "  </thead>\n",
              "  <tbody>\n",
              "    <tr>\n",
              "      <th>0</th>\n",
              "      <td>O ile my podnieśliśmy pensję minimalną w czasie 8 lat? (…) o ponad 90 proc.</td>\n",
              "      <td>Izabela Leszczyna</td>\n",
              "      <td>0</td>\n",
              "      <td>[o, ile, my, podnieść, być, pensja, minimalny, w, czas, 8, lato, ?, (, …, ), o, ponad, 90, proca, .]</td>\n",
              "      <td>[pensja minimalny, pensja]</td>\n",
              "      <td>[o, ile, my, podnieśliśmy, pensję, minimalną, w, czasie, 8, lat, o, ponad, 90, proc]</td>\n",
              "    </tr>\n",
              "    <tr>\n",
              "      <th>1</th>\n",
              "      <td>W rankingu praworządności World Justice Project w 2020 r. Polska znów spadła na niższą pozycję.</td>\n",
              "      <td>Hanna Gill-Piątek</td>\n",
              "      <td>1</td>\n",
              "      <td>[w, ranking, praworządność, World, Justice, Project, w, 2020, r, ., Polska, znów, spadły, na, niski, pozycja, .]</td>\n",
              "      <td>[niski pozycja, ranking praworządność, Project, Polska, praworządność, ranking, pozycja]</td>\n",
              "      <td>[w, rankingu, praworządności, world, justice, project, w, 2020, r, polska, znów, spadła, na, niższą, pozycję]</td>\n",
              "    </tr>\n",
              "    <tr>\n",
              "      <th>2</th>\n",
              "      <td>Na Uniwersytecie Warszawskim powstał taki raport, który jest oczywiście państwu znany, z którego wyraźnie wynika, że...</td>\n",
              "      <td>Dariusz Rosati</td>\n",
              "      <td>1</td>\n",
              "      <td>[na, uniwersytet, Warszawskie, powstać, taki, raport, ,, który, być, oczywiście, państwo, znany, ,, z, który, wyraźn...</td>\n",
              "      <td>[spółka skarb państwo, uniwersytet warszawski, spory kwota, szczególny preferencja, reklama medialny, zamówienie rek...</td>\n",
              "      <td>[na, uniwersytecie, warszawskim, powstał, taki, raport, który, jest, oczywiście, państwu, znany, z, którego, wyraźni...</td>\n",
              "    </tr>\n",
              "    <tr>\n",
              "      <th>3</th>\n",
              "      <td>Średnia emerytura w Polsce kobiet i mężczyzn różni się aż o 1000 zł.</td>\n",
              "      <td>Małgorzata Kidawa-Błońska</td>\n",
              "      <td>1</td>\n",
              "      <td>[średnia, emerytura, w, Polska, kobieta, i, mężczyzna, różny, się, aż, o, 1000, złoty, .]</td>\n",
              "      <td>[Polska kobieta, średni emerytura, mężczyzna, emerytura, kobieta, Polska]</td>\n",
              "      <td>[średnia, emerytura, w, polsce, kobiet, i, mężczyzn, różni, się, aż, o, 1000, zł]</td>\n",
              "    </tr>\n",
              "    <tr>\n",
              "      <th>4</th>\n",
              "      <td>Proszę mi pokazać (…) jedną osobę skazaną przez Trybunał Stanu od czasu, kiedy Trybunał Stanu w Polsce, wolnej, tak ...</td>\n",
              "      <td>Paweł Kukiz</td>\n",
              "      <td>0</td>\n",
              "      <td>[prosić, mi, pokazać, (, …, ), jeden, osoba, skazana, przez, trybunał, stan, od, czas, ,, kiedy, trybunał, stan, w, ...</td>\n",
              "      <td>[trybunał stan, jeden osoba skazać, urzędnik państwowy, człowiek, czas, Polska, korupcja, malwersacja, jeden osoba, ...</td>\n",
              "      <td>[proszę, mi, pokazać, jedną, osobę, skazaną, przez, trybunał, stanu, od, czasu, kiedy, trybunał, stanu, w, polsce, w...</td>\n",
              "    </tr>\n",
              "  </tbody>\n",
              "</table>\n",
              "</div>"
            ],
            "text/plain": [
              "                                                                                                                   content  ...                                                                                                               clean_text\n",
              "0                                              O ile my podnieśliśmy pensję minimalną w czasie 8 lat? (…) o ponad 90 proc.  ...                                     [o, ile, my, podnieśliśmy, pensję, minimalną, w, czasie, 8, lat, o, ponad, 90, proc]\n",
              "1                          W rankingu praworządności World Justice Project w 2020 r. Polska znów spadła na niższą pozycję.  ...            [w, rankingu, praworządności, world, justice, project, w, 2020, r, polska, znów, spadła, na, niższą, pozycję]\n",
              "2  Na Uniwersytecie Warszawskim powstał taki raport, który jest oczywiście państwu znany, z którego wyraźnie wynika, że...  ...  [na, uniwersytecie, warszawskim, powstał, taki, raport, który, jest, oczywiście, państwu, znany, z, którego, wyraźni...\n",
              "3                                                     Średnia emerytura w Polsce kobiet i mężczyzn różni się aż o 1000 zł.  ...                                        [średnia, emerytura, w, polsce, kobiet, i, mężczyzn, różni, się, aż, o, 1000, zł]\n",
              "4  Proszę mi pokazać (…) jedną osobę skazaną przez Trybunał Stanu od czasu, kiedy Trybunał Stanu w Polsce, wolnej, tak ...  ...  [proszę, mi, pokazać, jedną, osobę, skazaną, przez, trybunał, stanu, od, czasu, kiedy, trybunał, stanu, w, polsce, w...\n",
              "\n",
              "[5 rows x 6 columns]"
            ]
          },
          "metadata": {
            "tags": []
          },
          "execution_count": 7
        }
      ]
    },
    {
      "cell_type": "markdown",
      "metadata": {
        "id": "73PqDGDXRSJB"
      },
      "source": [
        "# Feature creation"
      ]
    },
    {
      "cell_type": "code",
      "metadata": {
        "id": "JEHv3t1ARYQP"
      },
      "source": [
        "def count_uppercase_letters(text):\n",
        "    count = sum([1 for char in text if char.isupper()])\n",
        "    return (count / (len(text) - text.count(' '))) * 100\n",
        "\n",
        "\n",
        "def count_exclamation_marks(text):\n",
        "    count = text.count('!')\n",
        "    return (count / (len(text) - text.count(' '))) * 100\n",
        "\n",
        "\n",
        "def count_question_marks(text):\n",
        "    count = text.count('?')\n",
        "    return (count / (len(text) - text.count(' '))) * 100\n",
        "\n",
        "\n",
        "def count_quotation_marks(text):\n",
        "    count = text.count('\"')\n",
        "    return (count / (len(text) - text.count(' '))) * 100\n",
        "\n",
        "\n",
        "def count_punctuation(text):\n",
        "    count = sum([1 for char in text if char in string.punctuation])\n",
        "    return (count / (len(text) - text.count(' '))) * 100\n",
        "\n",
        "\n",
        "def count_text_length(text):\n",
        "    return len(text) - text.count(' ')\n",
        "\n",
        "\n",
        "def get_sentiment(text):\n",
        "    requester = Requester('241393@student.pwr.edu.pl')\n",
        "    lpmn_query = 'any2txt|wcrft2|wsd|ccl_emo({\"lang\":\"polish\"})|ccl_emo_stats({' \\\n",
        "                 '\"lang\":\"polish\", \"split_paragraphs\": false})'\n",
        "\n",
        "    string_ids = requester.upload_strings([text])\n",
        "    response = requester.process_query(lpmn_query, [string_id.text for string_id in string_ids])\n",
        "    requester.download_response(response[0], './sentiment.zip')\n",
        "\n",
        "    with zipfile.ZipFile('sentiment.zip', 'r') as archive:\n",
        "        with archive.open(archive.namelist()[0]) as data:\n",
        "            df = pd.read_csv(data, sep=';')\n",
        "\n",
        "    sentiment_value = sum([int(entry) for entry in df['Polarity'].values if entry != 'None'])\n",
        "    return sentiment_value\n",
        "\n",
        "\n",
        "def count_positive_words():\n",
        "    with zipfile.ZipFile('sentiment.zip', 'r') as archive:\n",
        "        with archive.open(archive.namelist()[0]) as data:\n",
        "            df = pd.read_csv(data, sep=';')\n",
        "\n",
        "    positive_words = sum([1 for entry in df['Polarity'].values if entry != 'None' and int(entry) > 0])\n",
        "    return (positive_words / len(df['Polarity'])) * 100\n",
        "\n",
        "\n",
        "def count_negative_words():\n",
        "    with zipfile.ZipFile('sentiment.zip', 'r') as archive:\n",
        "        with archive.open(archive.namelist()[0]) as data:\n",
        "            df = pd.read_csv(data, sep=';')\n",
        "\n",
        "    negative_words = sum([1 for entry in df['Polarity'].values if entry != 'None' and int(entry) < 0])\n",
        "    return (negative_words / len(df['Polarity'])) * 100\n"
      ],
      "execution_count": 8,
      "outputs": []
    },
    {
      "cell_type": "code",
      "metadata": {
        "id": "JHbMIcgGt8xf"
      },
      "source": [
        "X_train, X_test, y_train, y_test = train_test_split(df['clean_text'], df['label'], test_size=0.25)"
      ],
      "execution_count": 9,
      "outputs": []
    },
    {
      "cell_type": "code",
      "metadata": {
        "colab": {
          "base_uri": "https://localhost:8080/"
        },
        "id": "j5vWEUGPzpSa",
        "outputId": "dee3fc7c-223e-40fa-ef29-8a4314d31c51"
      },
      "source": [
        "X_train"
      ],
      "execution_count": 10,
      "outputs": [
        {
          "output_type": "execute_result",
          "data": {
            "text/plain": [
              "3866    [na, 100, szwajcarów, przypada, około, 24, sztuki, broni, w, tym, automatycznej, w, polsce, 15, sztuk, broni, na, 10...\n",
              "2107                                                                    [a, najwięcej, dostała, platforma, 4159, w, roku, 2007]\n",
              "1392    [w, programie, pawła, adamowicza, obiecany, jest, wzrost, o, 50, środków, na, remont, i, utrzymanie, chodników, a, w...\n",
              "975      [obciążenie, prokuratora, wojskowego, było, około, 15, razy, mniejsze, niż, prokuratora, w, prokuraturze, powszechnej]\n",
              "3675    [, już, 3, raz, z, rzędu, w, 3, kadencji, już, otrzymałem, najlepszy, wynik, w, kraju, tym, razem, to, jest, 77, tys...\n",
              "                                                                 ...                                                           \n",
              "2309    [na, ile, się, znam, na, ordynacji, wyborczej, to, ona, zakazuje, po, pierwsze, finansowania, kampanii, przez, podmi...\n",
              "102     [tu, w, procesie, przyznawania, pomocy, finansowej, z, funduszy, wsparcia, kultury, przyp, demagog, przede, wszystki...\n",
              "2401    [sektor, usług, wspólnych, w, którym, polska, jest, jednym, z, liderów, na, świecie, ma, już, ok, 200, tys, miejsc, ...\n",
              "1827                                     [krym, potrzebuje, chociażby, ukraińskiej, wody, bez, której, nie, ma, tam, rolnictwa]\n",
              "3577                                                      [w, tej, chwili, mamy, przykryty, kraków, koło, 60, procent, planami]\n",
              "Name: clean_text, Length: 2676, dtype: object"
            ]
          },
          "metadata": {
            "tags": []
          },
          "execution_count": 10
        }
      ]
    },
    {
      "cell_type": "markdown",
      "metadata": {
        "id": "5RpIZNAcSYI3"
      },
      "source": [
        "## Vectorization"
      ]
    },
    {
      "cell_type": "markdown",
      "metadata": {
        "id": "M29--NLvSgJ7"
      },
      "source": [
        "### N-gram"
      ]
    },
    {
      "cell_type": "code",
      "metadata": {
        "id": "SqQnNTC3ScdN"
      },
      "source": [
        "# range = (2, 2)\n",
        "\n",
        "# ngram_vect = CountVectorizer(ngram_range=range)\n",
        "# X_ngram = ngram_vect.fit_transform(X['content'])\n",
        "\n",
        "# X_ngram_df = pd.DataFrame(X_ngram.toarray())\n",
        "# X_ngram_df.columns = ngram_vect.get_feature_names()\n",
        "# X_ngram_df"
      ],
      "execution_count": 11,
      "outputs": []
    },
    {
      "cell_type": "markdown",
      "metadata": {
        "id": "lYny71hQSlGb"
      },
      "source": [
        "### TF-IDF"
      ]
    },
    {
      "cell_type": "code",
      "metadata": {
        "id": "q1AM3pFYSk1-"
      },
      "source": [
        "# tfidf_vect = TfidfVectorizer()\n",
        "# tfidf_vect.fit(X_train['content'])\n",
        "\n",
        "# X_train_vect = tfidf_vect.transform(X_train['content'])\n",
        "# X_test_vect = tfidf_vect.transform(X_test['content'])"
      ],
      "execution_count": 12,
      "outputs": []
    },
    {
      "cell_type": "code",
      "metadata": {
        "id": "NpQ-Ho-ddM-O"
      },
      "source": [
        "# X_test_vect[0].toarray()"
      ],
      "execution_count": 13,
      "outputs": []
    },
    {
      "cell_type": "markdown",
      "metadata": {
        "id": "RFJCT-KhnedH"
      },
      "source": [
        "# Model nr 1"
      ]
    },
    {
      "cell_type": "code",
      "metadata": {
        "id": "Rw2jDsLrZ1pf"
      },
      "source": [
        ""
      ],
      "execution_count": 13,
      "outputs": []
    },
    {
      "cell_type": "markdown",
      "metadata": {
        "id": "3cUrdk4NniCS"
      },
      "source": [
        "# Model nr 2"
      ]
    },
    {
      "cell_type": "code",
      "metadata": {
        "id": "tDcT0PuXac4i"
      },
      "source": [
        ""
      ],
      "execution_count": 13,
      "outputs": []
    },
    {
      "cell_type": "markdown",
      "metadata": {
        "id": "E-I33FR-nnJg"
      },
      "source": [
        "# Deep Learning"
      ]
    },
    {
      "cell_type": "code",
      "metadata": {
        "id": "q1mEUfPj_Oq9"
      },
      "source": [
        "tokenizer = Tokenizer()\n",
        "tokenizer.fit_on_texts(X_train)\n",
        "X_train_seq = tokenizer.texts_to_sequences(X_train)\n",
        "X_test_seq = tokenizer.texts_to_sequences(X_test)\n",
        "\n",
        "X_train_seq_pad = pad_sequences(X_train_seq, len(max(X_train_seq, key=len)))\n",
        "X_test_seq_pad = pad_sequences(X_test_seq, len(max(X_train_seq, key=len)))\n",
        "\n"
      ],
      "execution_count": 14,
      "outputs": []
    },
    {
      "cell_type": "code",
      "metadata": {
        "id": "oC7fIMjgzuUJ",
        "colab": {
          "base_uri": "https://localhost:8080/"
        },
        "outputId": "42d0dc7f-f437-464d-e5de-99cbf2d9de2f"
      },
      "source": [
        "X_train_seq_pad.shape"
      ],
      "execution_count": 15,
      "outputs": [
        {
          "output_type": "execute_result",
          "data": {
            "text/plain": [
              "(2676, 177)"
            ]
          },
          "metadata": {
            "tags": []
          },
          "execution_count": 15
        }
      ]
    },
    {
      "cell_type": "markdown",
      "metadata": {
        "id": "0wMFQUxR4A_W"
      },
      "source": [
        "## RNN model"
      ]
    },
    {
      "cell_type": "code",
      "metadata": {
        "id": "iHU2UZnyeBZS",
        "colab": {
          "base_uri": "https://localhost:8080/"
        },
        "outputId": "2d8c442c-6775-496e-9dd9-ece8aecb35eb"
      },
      "source": [
        "batch_size = 64\n",
        "\n",
        "model = Sequential()\n",
        "model.add(Embedding(len(tokenizer.index_word)+1, 64))\n",
        "model.add(LSTM(32, dropout=0.3, recurrent_dropout=0.3, return_sequences=True, recurrent_initializer='glorot_uniform'))\n",
        "# model.add(Dense(64, activation='relu'))\n",
        "model.add(Dense(1, activation='sigmoid'))\n",
        "# model.add(Dense(4, activation='softmax'))\n",
        "model.summary()\n"
      ],
      "execution_count": 16,
      "outputs": [
        {
          "output_type": "stream",
          "text": [
            "Model: \"sequential\"\n",
            "_________________________________________________________________\n",
            "Layer (type)                 Output Shape              Param #   \n",
            "=================================================================\n",
            "embedding (Embedding)        (None, None, 64)          813760    \n",
            "_________________________________________________________________\n",
            "lstm (LSTM)                  (None, None, 32)          12416     \n",
            "_________________________________________________________________\n",
            "dense (Dense)                (None, None, 1)           33        \n",
            "=================================================================\n",
            "Total params: 826,209\n",
            "Trainable params: 826,209\n",
            "Non-trainable params: 0\n",
            "_________________________________________________________________\n"
          ],
          "name": "stdout"
        }
      ]
    },
    {
      "cell_type": "code",
      "metadata": {
        "id": "JINiT4LXgl4o"
      },
      "source": [
        ""
      ],
      "execution_count": 16,
      "outputs": []
    },
    {
      "cell_type": "code",
      "metadata": {
        "id": "u4d1AeMd49ig"
      },
      "source": [
        "model.compile(optimizer='adam',\n",
        "              loss='binary_crossentropy',\n",
        "              metrics=['accuracy'])"
      ],
      "execution_count": 17,
      "outputs": []
    },
    {
      "cell_type": "code",
      "metadata": {
        "colab": {
          "base_uri": "https://localhost:8080/",
          "height": 408
        },
        "id": "O3cFAQbHkOrk",
        "outputId": "10ab9d0f-29c3-45c9-c593-0850ffb393bc"
      },
      "source": [
        "early_stopping = EarlyStopping(monitor='loss', patience=3)\n",
        "\n",
        "# y_train_cat = to_categorical(y_train, 4)\n",
        "# y_test_cat = to_categorical(y_test, 4)\n",
        "\n",
        "history = model.fit(X_train_seq_pad, y_train, validation_data=(X_test_seq_pad, y_test), batch_size=batch_size, epochs=32, callbacks=[early_stopping])"
      ],
      "execution_count": 19,
      "outputs": [
        {
          "output_type": "stream",
          "text": [
            "Epoch 1/32\n",
            "42/42 [==============================] - 13s 249ms/step - loss: 0.6482 - accuracy: 0.6864 - val_loss: 0.6075 - val_accuracy: 0.7077\n",
            "Epoch 2/32\n",
            "29/42 [===================>..........] - ETA: 2s - loss: 0.5756 - accuracy: 0.7428"
          ],
          "name": "stdout"
        },
        {
          "output_type": "error",
          "ename": "KeyboardInterrupt",
          "evalue": "ignored",
          "traceback": [
            "\u001b[0;31m---------------------------------------------------------------------------\u001b[0m",
            "\u001b[0;31mKeyboardInterrupt\u001b[0m                         Traceback (most recent call last)",
            "\u001b[0;32m<ipython-input-19-3e9972d87953>\u001b[0m in \u001b[0;36m<module>\u001b[0;34m()\u001b[0m\n\u001b[1;32m      4\u001b[0m \u001b[0;31m# y_test_cat = to_categorical(y_test, 4)\u001b[0m\u001b[0;34m\u001b[0m\u001b[0;34m\u001b[0m\u001b[0;34m\u001b[0m\u001b[0m\n\u001b[1;32m      5\u001b[0m \u001b[0;34m\u001b[0m\u001b[0m\n\u001b[0;32m----> 6\u001b[0;31m \u001b[0mhistory\u001b[0m \u001b[0;34m=\u001b[0m \u001b[0mmodel\u001b[0m\u001b[0;34m.\u001b[0m\u001b[0mfit\u001b[0m\u001b[0;34m(\u001b[0m\u001b[0mX_train_seq_pad\u001b[0m\u001b[0;34m,\u001b[0m \u001b[0my_train\u001b[0m\u001b[0;34m,\u001b[0m \u001b[0mvalidation_data\u001b[0m\u001b[0;34m=\u001b[0m\u001b[0;34m(\u001b[0m\u001b[0mX_test_seq_pad\u001b[0m\u001b[0;34m,\u001b[0m \u001b[0my_test\u001b[0m\u001b[0;34m)\u001b[0m\u001b[0;34m,\u001b[0m \u001b[0mbatch_size\u001b[0m\u001b[0;34m=\u001b[0m\u001b[0mbatch_size\u001b[0m\u001b[0;34m,\u001b[0m \u001b[0mepochs\u001b[0m\u001b[0;34m=\u001b[0m\u001b[0;36m32\u001b[0m\u001b[0;34m,\u001b[0m \u001b[0mcallbacks\u001b[0m\u001b[0;34m=\u001b[0m\u001b[0;34m[\u001b[0m\u001b[0mearly_stopping\u001b[0m\u001b[0;34m]\u001b[0m\u001b[0;34m)\u001b[0m\u001b[0;34m\u001b[0m\u001b[0;34m\u001b[0m\u001b[0m\n\u001b[0m",
            "\u001b[0;32m/usr/local/lib/python3.7/dist-packages/tensorflow/python/keras/engine/training.py\u001b[0m in \u001b[0;36mfit\u001b[0;34m(self, x, y, batch_size, epochs, verbose, callbacks, validation_split, validation_data, shuffle, class_weight, sample_weight, initial_epoch, steps_per_epoch, validation_steps, validation_batch_size, validation_freq, max_queue_size, workers, use_multiprocessing)\u001b[0m\n\u001b[1;32m   1098\u001b[0m                 _r=1):\n\u001b[1;32m   1099\u001b[0m               \u001b[0mcallbacks\u001b[0m\u001b[0;34m.\u001b[0m\u001b[0mon_train_batch_begin\u001b[0m\u001b[0;34m(\u001b[0m\u001b[0mstep\u001b[0m\u001b[0;34m)\u001b[0m\u001b[0;34m\u001b[0m\u001b[0;34m\u001b[0m\u001b[0m\n\u001b[0;32m-> 1100\u001b[0;31m               \u001b[0mtmp_logs\u001b[0m \u001b[0;34m=\u001b[0m \u001b[0mself\u001b[0m\u001b[0;34m.\u001b[0m\u001b[0mtrain_function\u001b[0m\u001b[0;34m(\u001b[0m\u001b[0miterator\u001b[0m\u001b[0;34m)\u001b[0m\u001b[0;34m\u001b[0m\u001b[0;34m\u001b[0m\u001b[0m\n\u001b[0m\u001b[1;32m   1101\u001b[0m               \u001b[0;32mif\u001b[0m \u001b[0mdata_handler\u001b[0m\u001b[0;34m.\u001b[0m\u001b[0mshould_sync\u001b[0m\u001b[0;34m:\u001b[0m\u001b[0;34m\u001b[0m\u001b[0;34m\u001b[0m\u001b[0m\n\u001b[1;32m   1102\u001b[0m                 \u001b[0mcontext\u001b[0m\u001b[0;34m.\u001b[0m\u001b[0masync_wait\u001b[0m\u001b[0;34m(\u001b[0m\u001b[0;34m)\u001b[0m\u001b[0;34m\u001b[0m\u001b[0;34m\u001b[0m\u001b[0m\n",
            "\u001b[0;32m/usr/local/lib/python3.7/dist-packages/tensorflow/python/eager/def_function.py\u001b[0m in \u001b[0;36m__call__\u001b[0;34m(self, *args, **kwds)\u001b[0m\n\u001b[1;32m    826\u001b[0m     \u001b[0mtracing_count\u001b[0m \u001b[0;34m=\u001b[0m \u001b[0mself\u001b[0m\u001b[0;34m.\u001b[0m\u001b[0mexperimental_get_tracing_count\u001b[0m\u001b[0;34m(\u001b[0m\u001b[0;34m)\u001b[0m\u001b[0;34m\u001b[0m\u001b[0;34m\u001b[0m\u001b[0m\n\u001b[1;32m    827\u001b[0m     \u001b[0;32mwith\u001b[0m \u001b[0mtrace\u001b[0m\u001b[0;34m.\u001b[0m\u001b[0mTrace\u001b[0m\u001b[0;34m(\u001b[0m\u001b[0mself\u001b[0m\u001b[0;34m.\u001b[0m\u001b[0m_name\u001b[0m\u001b[0;34m)\u001b[0m \u001b[0;32mas\u001b[0m \u001b[0mtm\u001b[0m\u001b[0;34m:\u001b[0m\u001b[0;34m\u001b[0m\u001b[0;34m\u001b[0m\u001b[0m\n\u001b[0;32m--> 828\u001b[0;31m       \u001b[0mresult\u001b[0m \u001b[0;34m=\u001b[0m \u001b[0mself\u001b[0m\u001b[0;34m.\u001b[0m\u001b[0m_call\u001b[0m\u001b[0;34m(\u001b[0m\u001b[0;34m*\u001b[0m\u001b[0margs\u001b[0m\u001b[0;34m,\u001b[0m \u001b[0;34m**\u001b[0m\u001b[0mkwds\u001b[0m\u001b[0;34m)\u001b[0m\u001b[0;34m\u001b[0m\u001b[0;34m\u001b[0m\u001b[0m\n\u001b[0m\u001b[1;32m    829\u001b[0m       \u001b[0mcompiler\u001b[0m \u001b[0;34m=\u001b[0m \u001b[0;34m\"xla\"\u001b[0m \u001b[0;32mif\u001b[0m \u001b[0mself\u001b[0m\u001b[0;34m.\u001b[0m\u001b[0m_experimental_compile\u001b[0m \u001b[0;32melse\u001b[0m \u001b[0;34m\"nonXla\"\u001b[0m\u001b[0;34m\u001b[0m\u001b[0;34m\u001b[0m\u001b[0m\n\u001b[1;32m    830\u001b[0m       \u001b[0mnew_tracing_count\u001b[0m \u001b[0;34m=\u001b[0m \u001b[0mself\u001b[0m\u001b[0;34m.\u001b[0m\u001b[0mexperimental_get_tracing_count\u001b[0m\u001b[0;34m(\u001b[0m\u001b[0;34m)\u001b[0m\u001b[0;34m\u001b[0m\u001b[0;34m\u001b[0m\u001b[0m\n",
            "\u001b[0;32m/usr/local/lib/python3.7/dist-packages/tensorflow/python/eager/def_function.py\u001b[0m in \u001b[0;36m_call\u001b[0;34m(self, *args, **kwds)\u001b[0m\n\u001b[1;32m    853\u001b[0m       \u001b[0;31m# In this case we have created variables on the first call, so we run the\u001b[0m\u001b[0;34m\u001b[0m\u001b[0;34m\u001b[0m\u001b[0;34m\u001b[0m\u001b[0m\n\u001b[1;32m    854\u001b[0m       \u001b[0;31m# defunned version which is guaranteed to never create variables.\u001b[0m\u001b[0;34m\u001b[0m\u001b[0;34m\u001b[0m\u001b[0;34m\u001b[0m\u001b[0m\n\u001b[0;32m--> 855\u001b[0;31m       \u001b[0;32mreturn\u001b[0m \u001b[0mself\u001b[0m\u001b[0;34m.\u001b[0m\u001b[0m_stateless_fn\u001b[0m\u001b[0;34m(\u001b[0m\u001b[0;34m*\u001b[0m\u001b[0margs\u001b[0m\u001b[0;34m,\u001b[0m \u001b[0;34m**\u001b[0m\u001b[0mkwds\u001b[0m\u001b[0;34m)\u001b[0m  \u001b[0;31m# pylint: disable=not-callable\u001b[0m\u001b[0;34m\u001b[0m\u001b[0;34m\u001b[0m\u001b[0m\n\u001b[0m\u001b[1;32m    856\u001b[0m     \u001b[0;32melif\u001b[0m \u001b[0mself\u001b[0m\u001b[0;34m.\u001b[0m\u001b[0m_stateful_fn\u001b[0m \u001b[0;32mis\u001b[0m \u001b[0;32mnot\u001b[0m \u001b[0;32mNone\u001b[0m\u001b[0;34m:\u001b[0m\u001b[0;34m\u001b[0m\u001b[0;34m\u001b[0m\u001b[0m\n\u001b[1;32m    857\u001b[0m       \u001b[0;31m# Release the lock early so that multiple threads can perform the call\u001b[0m\u001b[0;34m\u001b[0m\u001b[0;34m\u001b[0m\u001b[0;34m\u001b[0m\u001b[0m\n",
            "\u001b[0;32m/usr/local/lib/python3.7/dist-packages/tensorflow/python/eager/function.py\u001b[0m in \u001b[0;36m__call__\u001b[0;34m(self, *args, **kwargs)\u001b[0m\n\u001b[1;32m   2941\u001b[0m        filtered_flat_args) = self._maybe_define_function(args, kwargs)\n\u001b[1;32m   2942\u001b[0m     return graph_function._call_flat(\n\u001b[0;32m-> 2943\u001b[0;31m         filtered_flat_args, captured_inputs=graph_function.captured_inputs)  # pylint: disable=protected-access\n\u001b[0m\u001b[1;32m   2944\u001b[0m \u001b[0;34m\u001b[0m\u001b[0m\n\u001b[1;32m   2945\u001b[0m   \u001b[0;34m@\u001b[0m\u001b[0mproperty\u001b[0m\u001b[0;34m\u001b[0m\u001b[0;34m\u001b[0m\u001b[0m\n",
            "\u001b[0;32m/usr/local/lib/python3.7/dist-packages/tensorflow/python/eager/function.py\u001b[0m in \u001b[0;36m_call_flat\u001b[0;34m(self, args, captured_inputs, cancellation_manager)\u001b[0m\n\u001b[1;32m   1917\u001b[0m       \u001b[0;31m# No tape is watching; skip to running the function.\u001b[0m\u001b[0;34m\u001b[0m\u001b[0;34m\u001b[0m\u001b[0;34m\u001b[0m\u001b[0m\n\u001b[1;32m   1918\u001b[0m       return self._build_call_outputs(self._inference_function.call(\n\u001b[0;32m-> 1919\u001b[0;31m           ctx, args, cancellation_manager=cancellation_manager))\n\u001b[0m\u001b[1;32m   1920\u001b[0m     forward_backward = self._select_forward_and_backward_functions(\n\u001b[1;32m   1921\u001b[0m         \u001b[0margs\u001b[0m\u001b[0;34m,\u001b[0m\u001b[0;34m\u001b[0m\u001b[0;34m\u001b[0m\u001b[0m\n",
            "\u001b[0;32m/usr/local/lib/python3.7/dist-packages/tensorflow/python/eager/function.py\u001b[0m in \u001b[0;36mcall\u001b[0;34m(self, ctx, args, cancellation_manager)\u001b[0m\n\u001b[1;32m    558\u001b[0m               \u001b[0minputs\u001b[0m\u001b[0;34m=\u001b[0m\u001b[0margs\u001b[0m\u001b[0;34m,\u001b[0m\u001b[0;34m\u001b[0m\u001b[0;34m\u001b[0m\u001b[0m\n\u001b[1;32m    559\u001b[0m               \u001b[0mattrs\u001b[0m\u001b[0;34m=\u001b[0m\u001b[0mattrs\u001b[0m\u001b[0;34m,\u001b[0m\u001b[0;34m\u001b[0m\u001b[0;34m\u001b[0m\u001b[0m\n\u001b[0;32m--> 560\u001b[0;31m               ctx=ctx)\n\u001b[0m\u001b[1;32m    561\u001b[0m         \u001b[0;32melse\u001b[0m\u001b[0;34m:\u001b[0m\u001b[0;34m\u001b[0m\u001b[0;34m\u001b[0m\u001b[0m\n\u001b[1;32m    562\u001b[0m           outputs = execute.execute_with_cancellation(\n",
            "\u001b[0;32m/usr/local/lib/python3.7/dist-packages/tensorflow/python/eager/execute.py\u001b[0m in \u001b[0;36mquick_execute\u001b[0;34m(op_name, num_outputs, inputs, attrs, ctx, name)\u001b[0m\n\u001b[1;32m     58\u001b[0m     \u001b[0mctx\u001b[0m\u001b[0;34m.\u001b[0m\u001b[0mensure_initialized\u001b[0m\u001b[0;34m(\u001b[0m\u001b[0;34m)\u001b[0m\u001b[0;34m\u001b[0m\u001b[0;34m\u001b[0m\u001b[0m\n\u001b[1;32m     59\u001b[0m     tensors = pywrap_tfe.TFE_Py_Execute(ctx._handle, device_name, op_name,\n\u001b[0;32m---> 60\u001b[0;31m                                         inputs, attrs, num_outputs)\n\u001b[0m\u001b[1;32m     61\u001b[0m   \u001b[0;32mexcept\u001b[0m \u001b[0mcore\u001b[0m\u001b[0;34m.\u001b[0m\u001b[0m_NotOkStatusException\u001b[0m \u001b[0;32mas\u001b[0m \u001b[0me\u001b[0m\u001b[0;34m:\u001b[0m\u001b[0;34m\u001b[0m\u001b[0;34m\u001b[0m\u001b[0m\n\u001b[1;32m     62\u001b[0m     \u001b[0;32mif\u001b[0m \u001b[0mname\u001b[0m \u001b[0;32mis\u001b[0m \u001b[0;32mnot\u001b[0m \u001b[0;32mNone\u001b[0m\u001b[0;34m:\u001b[0m\u001b[0;34m\u001b[0m\u001b[0;34m\u001b[0m\u001b[0m\n",
            "\u001b[0;31mKeyboardInterrupt\u001b[0m: "
          ]
        }
      ]
    },
    {
      "cell_type": "code",
      "metadata": {
        "id": "wt2ew1mfoYuv"
      },
      "source": [
        "prediction = model.predict_classes(X_test_seq_pad[48])\n",
        "# len(X_test_seq_pad[48])\n",
        "print(len(prediction))\n",
        "prediction = int(stats.mode(prediction).mode)\n",
        "print('Treść wypowiedzi:')\n",
        "print(X_test.iloc[48])\n",
        "print('Klasyfikacja: ', classes_names[prediction])\n",
        "# predictions = np.argmax(model.predict(test_image_gen), axis=-1)\n",
        "\n",
        "# plt.figure(figsize=(10,6))\n",
        "# sns.heatmap(confusion_matrix(test_image_gen.classes,predictions),annot=True)"
      ],
      "execution_count": null,
      "outputs": []
    },
    {
      "cell_type": "markdown",
      "metadata": {
        "id": "8f79i215ns_O"
      },
      "source": [
        "# Evaluation"
      ]
    },
    {
      "cell_type": "code",
      "metadata": {
        "id": "vcxV7qHxees3"
      },
      "source": [
        ""
      ],
      "execution_count": null,
      "outputs": []
    },
    {
      "cell_type": "code",
      "metadata": {
        "id": "Qc7kl2ODnuk9"
      },
      "source": [
        ""
      ],
      "execution_count": null,
      "outputs": []
    }
  ]
}