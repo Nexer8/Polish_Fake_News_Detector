{
  "nbformat": 4,
  "nbformat_minor": 0,
  "metadata": {
    "colab": {
      "name": "Main.ipynb",
      "provenance": [],
      "collapsed_sections": [],
      "toc_visible": true,
      "authorship_tag": "ABX9TyM3VRfeFng5n9qzxwbVhwxU"
    },
    "kernelspec": {
      "name": "python3",
      "display_name": "Python 3"
    },
    "language_info": {
      "name": "python"
    }
  },
  "cells": [
    {
      "cell_type": "markdown",
      "metadata": {
        "id": "cX-nXlspqesI"
      },
      "source": [
        "# Imports"
      ]
    },
    {
      "cell_type": "code",
      "metadata": {
        "colab": {
          "base_uri": "https://localhost:8080/"
        },
        "id": "uxS2kfBwqdar",
        "outputId": "54f35ec2-0401-480b-80f0-471cf96bacb0"
      },
      "source": [
        "from google.colab import drive\n",
        "drive.mount('/content/drive')\n",
        "\n",
        "import pandas as pd\n",
        "import numpy as np\n",
        "import seaborn as sns\n",
        "import re, string\n",
        "from sklearn.feature_extraction.text import CountVectorizer, TfidfVectorizer\n",
        "from tensorflow.keras.callbacks import EarlyStopping\n",
        "from sklearn.model_selection import train_test_split\n",
        "from keras.layers import Dense, Embedding, LSTM\n",
        "from keras.models import Sequential\n",
        "from keras.preprocessing.sequence import pad_sequences\n",
        "from keras.preprocessing.text import Tokenizer\n"
      ],
      "execution_count": 1,
      "outputs": [
        {
          "output_type": "stream",
          "text": [
            "Drive already mounted at /content/drive; to attempt to forcibly remount, call drive.mount(\"/content/drive\", force_remount=True).\n"
          ],
          "name": "stdout"
        }
      ]
    },
    {
      "cell_type": "code",
      "metadata": {
        "id": "7rvdXqfSKPXc"
      },
      "source": [
        ""
      ],
      "execution_count": 1,
      "outputs": []
    },
    {
      "cell_type": "markdown",
      "metadata": {
        "id": "8c1FijT1mrnh"
      },
      "source": [
        "# Data loading"
      ]
    },
    {
      "cell_type": "code",
      "metadata": {
        "id": "-dy75juyZrT2",
        "colab": {
          "base_uri": "https://localhost:8080/",
          "height": 419
        },
        "outputId": "07730467-7956-4a23-bca9-6731e1de9b82"
      },
      "source": [
        "data_path = '/content/drive/MyDrive/ZIwG P/citations.csv'\n",
        "pd.set_option('display.max_rows', 10)\n",
        "pd.set_option('display.max_colwidth', 120)\n",
        "\n",
        "df = pd.read_csv(data_path)\n",
        "df = df.dropna()\n",
        "df = df.reset_index(drop=True)\n",
        "# df.info()\n",
        "\n",
        "\n",
        "df['label'].replace({'Fałsz': 0, 'Prawda': 1, 'Manipulacja': 2, 'Nieweryfikowalne': 3}, inplace=True)\n",
        "df = df[(df['label'] == 0) | (df['label'] == 1)]\n",
        "# X.head()\n",
        "# y.head(10)\n",
        "df"
      ],
      "execution_count": 2,
      "outputs": [
        {
          "output_type": "execute_result",
          "data": {
            "text/html": [
              "<div>\n",
              "<style scoped>\n",
              "    .dataframe tbody tr th:only-of-type {\n",
              "        vertical-align: middle;\n",
              "    }\n",
              "\n",
              "    .dataframe tbody tr th {\n",
              "        vertical-align: top;\n",
              "    }\n",
              "\n",
              "    .dataframe thead th {\n",
              "        text-align: right;\n",
              "    }\n",
              "</style>\n",
              "<table border=\"1\" class=\"dataframe\">\n",
              "  <thead>\n",
              "    <tr style=\"text-align: right;\">\n",
              "      <th></th>\n",
              "      <th>content</th>\n",
              "      <th>author</th>\n",
              "      <th>label</th>\n",
              "    </tr>\n",
              "  </thead>\n",
              "  <tbody>\n",
              "    <tr>\n",
              "      <th>0</th>\n",
              "      <td>O ile my podnieśliśmy pensję minimalną w czasie 8 lat? (…) o ponad 90 proc.</td>\n",
              "      <td>Izabela Leszczyna</td>\n",
              "      <td>0</td>\n",
              "    </tr>\n",
              "    <tr>\n",
              "      <th>1</th>\n",
              "      <td>W rankingu praworządności World Justice Project w 2020 r. Polska znów spadła na niższą pozycję.</td>\n",
              "      <td>Hanna Gill-Piątek</td>\n",
              "      <td>1</td>\n",
              "    </tr>\n",
              "    <tr>\n",
              "      <th>2</th>\n",
              "      <td>Na Uniwersytecie Warszawskim powstał taki raport, który jest oczywiście państwu znany, z którego wyraźnie wynika, że...</td>\n",
              "      <td>Dariusz Rosati</td>\n",
              "      <td>1</td>\n",
              "    </tr>\n",
              "    <tr>\n",
              "      <th>3</th>\n",
              "      <td>Średnia emerytura w Polsce kobiet i mężczyzn różni się aż o 1000 zł.</td>\n",
              "      <td>Małgorzata Kidawa-Błońska</td>\n",
              "      <td>1</td>\n",
              "    </tr>\n",
              "    <tr>\n",
              "      <th>4</th>\n",
              "      <td>Proszę mi pokazać (…) jedną osobę skazaną przez Trybunał Stanu od czasu, kiedy Trybunał Stanu w Polsce, wolnej, tak ...</td>\n",
              "      <td>Paweł Kukiz</td>\n",
              "      <td>0</td>\n",
              "    </tr>\n",
              "    <tr>\n",
              "      <th>...</th>\n",
              "      <td>...</td>\n",
              "      <td>...</td>\n",
              "      <td>...</td>\n",
              "    </tr>\n",
              "    <tr>\n",
              "      <th>4330</th>\n",
              "      <td>Chroniliście SKOK-i, chroniliście swoich kolesi. Dlatego z budżetu państwa ponad 4,5 mld zł trzeba było im wypłacić.</td>\n",
              "      <td>Borys Budka</td>\n",
              "      <td>1</td>\n",
              "    </tr>\n",
              "    <tr>\n",
              "      <th>4332</th>\n",
              "      <td>Jeżeli chodzi o penalizację homoseksualizmu, to w Polsce nigdy czegoś takiego nie było. Ani za I Rzeczypospolitej, a...</td>\n",
              "      <td>Kosma Złotowski</td>\n",
              "      <td>0</td>\n",
              "    </tr>\n",
              "    <tr>\n",
              "      <th>4333</th>\n",
              "      <td>Rządowy Fundusz Inwestycji Lokalnych na Pomorzu – największy beneficjent gmina miasta Gdańsk.</td>\n",
              "      <td>Marcin Horała</td>\n",
              "      <td>1</td>\n",
              "    </tr>\n",
              "    <tr>\n",
              "      <th>4334</th>\n",
              "      <td>Zarówno WHO, EMA, czyli Europejska Agencja Leków, jak i polskie instytucje, w tym Urząd Rejestracji Produktów Leczni...</td>\n",
              "      <td>Michał Dworczyk</td>\n",
              "      <td>1</td>\n",
              "    </tr>\n",
              "    <tr>\n",
              "      <th>4335</th>\n",
              "      <td>W żadnym z tych krajów (które zawiesiły stosowanie szczepionki AstraZeneca – przyp. Demagog) nie ustalono, że taki z...</td>\n",
              "      <td>Michał Dworczyk</td>\n",
              "      <td>1</td>\n",
              "    </tr>\n",
              "  </tbody>\n",
              "</table>\n",
              "<p>3569 rows × 3 columns</p>\n",
              "</div>"
            ],
            "text/plain": [
              "                                                                                                                      content  ... label\n",
              "0                                                 O ile my podnieśliśmy pensję minimalną w czasie 8 lat? (…) o ponad 90 proc.  ...     0\n",
              "1                             W rankingu praworządności World Justice Project w 2020 r. Polska znów spadła na niższą pozycję.  ...     1\n",
              "2     Na Uniwersytecie Warszawskim powstał taki raport, który jest oczywiście państwu znany, z którego wyraźnie wynika, że...  ...     1\n",
              "3                                                        Średnia emerytura w Polsce kobiet i mężczyzn różni się aż o 1000 zł.  ...     1\n",
              "4     Proszę mi pokazać (…) jedną osobę skazaną przez Trybunał Stanu od czasu, kiedy Trybunał Stanu w Polsce, wolnej, tak ...  ...     0\n",
              "...                                                                                                                       ...  ...   ...\n",
              "4330     Chroniliście SKOK-i, chroniliście swoich kolesi. Dlatego z budżetu państwa ponad 4,5 mld zł trzeba było im wypłacić.  ...     1\n",
              "4332  Jeżeli chodzi o penalizację homoseksualizmu, to w Polsce nigdy czegoś takiego nie było. Ani za I Rzeczypospolitej, a...  ...     0\n",
              "4333                            Rządowy Fundusz Inwestycji Lokalnych na Pomorzu – największy beneficjent gmina miasta Gdańsk.  ...     1\n",
              "4334  Zarówno WHO, EMA, czyli Europejska Agencja Leków, jak i polskie instytucje, w tym Urząd Rejestracji Produktów Leczni...  ...     1\n",
              "4335  W żadnym z tych krajów (które zawiesiły stosowanie szczepionki AstraZeneca – przyp. Demagog) nie ustalono, że taki z...  ...     1\n",
              "\n",
              "[3569 rows x 3 columns]"
            ]
          },
          "metadata": {
            "tags": []
          },
          "execution_count": 2
        }
      ]
    },
    {
      "cell_type": "markdown",
      "metadata": {
        "id": "8iOqXFSDmxdw"
      },
      "source": [
        "# Text preprocessing"
      ]
    },
    {
      "cell_type": "code",
      "metadata": {
        "id": "ah8YXWTVZ0A7"
      },
      "source": [
        "def remove_punctuation(text):\n",
        "    no_punctuation_text = \"\".join([char for char in text if char not in string.punctuation])\n",
        "    return no_punctuation_text\n",
        "\n",
        "\n",
        "def tokenize(text):\n",
        "    tokens = re.split('\\W+', text)\n",
        "    text = [word for word in tokens]\n",
        "    return text\n",
        "\n",
        "\n",
        "def lemmatizing(text):\n",
        "    #TODO when we get polish lemmatizer\n",
        "    pass\n",
        "\n",
        "\n",
        "#TODO when we decide what how to preprocess text\n",
        "# now it is just copy-paste from online course\n",
        "def clean_text(text):\n",
        "    text = \"\".join([word.lower() for word in text if word not in string.punctuation])\n",
        "    tokens = re.split('\\W+', text)\n",
        "    text = [word for word in tokens]\n",
        "    return text"
      ],
      "execution_count": 3,
      "outputs": []
    },
    {
      "cell_type": "code",
      "metadata": {
        "colab": {
          "base_uri": "https://localhost:8080/",
          "height": 272
        },
        "id": "lZ7-2hMpVSxG",
        "outputId": "27d596be-9d61-43fe-bc6a-c5779935c070"
      },
      "source": [
        "df['clean_text'] = df['content'].apply(lambda x: clean_text(x))\n",
        "df.head()"
      ],
      "execution_count": 4,
      "outputs": [
        {
          "output_type": "execute_result",
          "data": {
            "text/html": [
              "<div>\n",
              "<style scoped>\n",
              "    .dataframe tbody tr th:only-of-type {\n",
              "        vertical-align: middle;\n",
              "    }\n",
              "\n",
              "    .dataframe tbody tr th {\n",
              "        vertical-align: top;\n",
              "    }\n",
              "\n",
              "    .dataframe thead th {\n",
              "        text-align: right;\n",
              "    }\n",
              "</style>\n",
              "<table border=\"1\" class=\"dataframe\">\n",
              "  <thead>\n",
              "    <tr style=\"text-align: right;\">\n",
              "      <th></th>\n",
              "      <th>content</th>\n",
              "      <th>author</th>\n",
              "      <th>label</th>\n",
              "      <th>clean_text</th>\n",
              "    </tr>\n",
              "  </thead>\n",
              "  <tbody>\n",
              "    <tr>\n",
              "      <th>0</th>\n",
              "      <td>O ile my podnieśliśmy pensję minimalną w czasie 8 lat? (…) o ponad 90 proc.</td>\n",
              "      <td>Izabela Leszczyna</td>\n",
              "      <td>0</td>\n",
              "      <td>[o, ile, my, podnieśliśmy, pensję, minimalną, w, czasie, 8, lat, o, ponad, 90, proc]</td>\n",
              "    </tr>\n",
              "    <tr>\n",
              "      <th>1</th>\n",
              "      <td>W rankingu praworządności World Justice Project w 2020 r. Polska znów spadła na niższą pozycję.</td>\n",
              "      <td>Hanna Gill-Piątek</td>\n",
              "      <td>1</td>\n",
              "      <td>[w, rankingu, praworządności, world, justice, project, w, 2020, r, polska, znów, spadła, na, niższą, pozycję]</td>\n",
              "    </tr>\n",
              "    <tr>\n",
              "      <th>2</th>\n",
              "      <td>Na Uniwersytecie Warszawskim powstał taki raport, który jest oczywiście państwu znany, z którego wyraźnie wynika, że...</td>\n",
              "      <td>Dariusz Rosati</td>\n",
              "      <td>1</td>\n",
              "      <td>[na, uniwersytecie, warszawskim, powstał, taki, raport, który, jest, oczywiście, państwu, znany, z, którego, wyraźni...</td>\n",
              "    </tr>\n",
              "    <tr>\n",
              "      <th>3</th>\n",
              "      <td>Średnia emerytura w Polsce kobiet i mężczyzn różni się aż o 1000 zł.</td>\n",
              "      <td>Małgorzata Kidawa-Błońska</td>\n",
              "      <td>1</td>\n",
              "      <td>[średnia, emerytura, w, polsce, kobiet, i, mężczyzn, różni, się, aż, o, 1000, zł]</td>\n",
              "    </tr>\n",
              "    <tr>\n",
              "      <th>4</th>\n",
              "      <td>Proszę mi pokazać (…) jedną osobę skazaną przez Trybunał Stanu od czasu, kiedy Trybunał Stanu w Polsce, wolnej, tak ...</td>\n",
              "      <td>Paweł Kukiz</td>\n",
              "      <td>0</td>\n",
              "      <td>[proszę, mi, pokazać, jedną, osobę, skazaną, przez, trybunał, stanu, od, czasu, kiedy, trybunał, stanu, w, polsce, w...</td>\n",
              "    </tr>\n",
              "  </tbody>\n",
              "</table>\n",
              "</div>"
            ],
            "text/plain": [
              "                                                                                                                   content  ...                                                                                                               clean_text\n",
              "0                                              O ile my podnieśliśmy pensję minimalną w czasie 8 lat? (…) o ponad 90 proc.  ...                                     [o, ile, my, podnieśliśmy, pensję, minimalną, w, czasie, 8, lat, o, ponad, 90, proc]\n",
              "1                          W rankingu praworządności World Justice Project w 2020 r. Polska znów spadła na niższą pozycję.  ...            [w, rankingu, praworządności, world, justice, project, w, 2020, r, polska, znów, spadła, na, niższą, pozycję]\n",
              "2  Na Uniwersytecie Warszawskim powstał taki raport, który jest oczywiście państwu znany, z którego wyraźnie wynika, że...  ...  [na, uniwersytecie, warszawskim, powstał, taki, raport, który, jest, oczywiście, państwu, znany, z, którego, wyraźni...\n",
              "3                                                     Średnia emerytura w Polsce kobiet i mężczyzn różni się aż o 1000 zł.  ...                                        [średnia, emerytura, w, polsce, kobiet, i, mężczyzn, różni, się, aż, o, 1000, zł]\n",
              "4  Proszę mi pokazać (…) jedną osobę skazaną przez Trybunał Stanu od czasu, kiedy Trybunał Stanu w Polsce, wolnej, tak ...  ...  [proszę, mi, pokazać, jedną, osobę, skazaną, przez, trybunał, stanu, od, czasu, kiedy, trybunał, stanu, w, polsce, w...\n",
              "\n",
              "[5 rows x 4 columns]"
            ]
          },
          "metadata": {
            "tags": []
          },
          "execution_count": 4
        }
      ]
    },
    {
      "cell_type": "code",
      "metadata": {
        "id": "JHbMIcgGt8xf"
      },
      "source": [
        "X_train, X_test, y_train, y_test = train_test_split(df['clean_text'], df['label'], test_size=0.25)"
      ],
      "execution_count": 5,
      "outputs": []
    },
    {
      "cell_type": "code",
      "metadata": {
        "colab": {
          "base_uri": "https://localhost:8080/"
        },
        "id": "j5vWEUGPzpSa",
        "outputId": "7c3060b1-913b-4e1e-cfe1-c901ae4890dc"
      },
      "source": [
        "X_train"
      ],
      "execution_count": 6,
      "outputs": [
        {
          "output_type": "execute_result",
          "data": {
            "text/plain": [
              "695                                        [w, prywatnych, przychodniach, w, ramach, abonamentów, leczy, się, 15, mln, polaków]\n",
              "2399    [korweta, gawron, miała, być, przerobiona, przez, rząd, po, i, psl, na, żyletki, odrodziła, się, jako, orp, ślązak, ...\n",
              "2834                                              [99, przypadków, aborcji, w, polsce, to, są, tak, zwane, aborcje, eugeniczne]\n",
              "209                                                                                    [już, 2, mln, polaków, jest, bez, pracy]\n",
              "2839    [anna, zalewska, ja, wiem, ale, do, ginekologa, to, nie, jest, taki, problemmonika, olejnik, najpierw, trzeba, iść, ...\n",
              "                                                                 ...                                                           \n",
              "2438    [są, badania, które, wskazują, że, ze, względu, na, demografię, za, 20, lat, będzie, 25, mln, mniej, polaków, w, wie...\n",
              "2794                                       [problem, z, sędziami, tk, polega, na, tym, że, są, to, osoby, z, nadań, partyjnych]\n",
              "1766    [prognozy, narodowego, banku, polskiego, które, już, zostały, jakiś, czas, temu, opublikowane, w, raporcie, o, infla...\n",
              "4174                  [na, milion, mieszkańców, w, hiszpanii, zmarło, 630, osób, a, w, polsce, 65, na, covid19, przyp, demagog]\n",
              "600                                           [ponad, miliard, ludzi, na, świecie, nie, ma, dostępu, do, energii, elektrycznej]\n",
              "Name: clean_text, Length: 2676, dtype: object"
            ]
          },
          "metadata": {
            "tags": []
          },
          "execution_count": 6
        }
      ]
    },
    {
      "cell_type": "markdown",
      "metadata": {
        "id": "5RpIZNAcSYI3"
      },
      "source": [
        "## Vectorization"
      ]
    },
    {
      "cell_type": "markdown",
      "metadata": {
        "id": "M29--NLvSgJ7"
      },
      "source": [
        "### N-gram"
      ]
    },
    {
      "cell_type": "code",
      "metadata": {
        "id": "SqQnNTC3ScdN"
      },
      "source": [
        "# range = (2, 2)\n",
        "\n",
        "# ngram_vect = CountVectorizer(ngram_range=range)\n",
        "# X_ngram = ngram_vect.fit_transform(X['content'])\n",
        "\n",
        "# X_ngram_df = pd.DataFrame(X_ngram.toarray())\n",
        "# X_ngram_df.columns = ngram_vect.get_feature_names()\n",
        "# X_ngram_df"
      ],
      "execution_count": 7,
      "outputs": []
    },
    {
      "cell_type": "markdown",
      "metadata": {
        "id": "lYny71hQSlGb"
      },
      "source": [
        "### TF-IDF"
      ]
    },
    {
      "cell_type": "code",
      "metadata": {
        "id": "q1AM3pFYSk1-"
      },
      "source": [
        "# tfidf_vect = TfidfVectorizer()\n",
        "# tfidf_vect.fit(X_train['content'])\n",
        "\n",
        "# X_train_vect = tfidf_vect.transform(X_train['content'])\n",
        "# X_test_vect = tfidf_vect.transform(X_test['content'])"
      ],
      "execution_count": 8,
      "outputs": []
    },
    {
      "cell_type": "code",
      "metadata": {
        "id": "NpQ-Ho-ddM-O"
      },
      "source": [
        "# X_test_vect[0].toarray()"
      ],
      "execution_count": 9,
      "outputs": []
    },
    {
      "cell_type": "markdown",
      "metadata": {
        "id": "RFJCT-KhnedH"
      },
      "source": [
        "# Model nr 1"
      ]
    },
    {
      "cell_type": "code",
      "metadata": {
        "id": "Rw2jDsLrZ1pf"
      },
      "source": [
        ""
      ],
      "execution_count": 9,
      "outputs": []
    },
    {
      "cell_type": "markdown",
      "metadata": {
        "id": "3cUrdk4NniCS"
      },
      "source": [
        "# Model nr 2"
      ]
    },
    {
      "cell_type": "code",
      "metadata": {
        "id": "tDcT0PuXac4i"
      },
      "source": [
        ""
      ],
      "execution_count": 9,
      "outputs": []
    },
    {
      "cell_type": "markdown",
      "metadata": {
        "id": "E-I33FR-nnJg"
      },
      "source": [
        "# Deep Learning"
      ]
    },
    {
      "cell_type": "code",
      "metadata": {
        "id": "q1mEUfPj_Oq9"
      },
      "source": [
        "tokenizer = Tokenizer()\n",
        "tokenizer.fit_on_texts(X_train)\n",
        "X_train_seq = tokenizer.texts_to_sequences(X_train)\n",
        "X_test_seq = tokenizer.texts_to_sequences(X_test)\n",
        "\n",
        "X_train_seq_pad = pad_sequences(X_train_seq, len(max(X_train_seq, key=len)))\n",
        "X_test_seq_pad = pad_sequences(X_test_seq, len(max(X_train_seq, key=len)))\n",
        "\n"
      ],
      "execution_count": 10,
      "outputs": []
    },
    {
      "cell_type": "code",
      "metadata": {
        "id": "oC7fIMjgzuUJ"
      },
      "source": [
        ""
      ],
      "execution_count": 10,
      "outputs": []
    },
    {
      "cell_type": "markdown",
      "metadata": {
        "id": "0wMFQUxR4A_W"
      },
      "source": [
        "## RNN model"
      ]
    },
    {
      "cell_type": "code",
      "metadata": {
        "id": "iHU2UZnyeBZS",
        "colab": {
          "base_uri": "https://localhost:8080/"
        },
        "outputId": "cd923672-15de-4b2f-fce9-78257387a0b3"
      },
      "source": [
        "batch_size = 64\n",
        "\n",
        "model = Sequential()\n",
        "model.add(Embedding(len(tokenizer.index_word)+1, 64))\n",
        "model.add(LSTM(32, dropout=0.3, recurrent_dropout=0.3, return_sequences=True, recurrent_initializer='glorot_uniform'))\n",
        "model.add(Dense(64, activation='relu'))\n",
        "model.add(Dense(1, activation='sigmoid'))\n",
        "model.summary()\n"
      ],
      "execution_count": 31,
      "outputs": [
        {
          "output_type": "stream",
          "text": [
            "Model: \"sequential_9\"\n",
            "_________________________________________________________________\n",
            "Layer (type)                 Output Shape              Param #   \n",
            "=================================================================\n",
            "embedding_9 (Embedding)      (None, None, 64)          824256    \n",
            "_________________________________________________________________\n",
            "lstm_8 (LSTM)                (None, None, 32)          12416     \n",
            "_________________________________________________________________\n",
            "dense_10 (Dense)             (None, None, 64)          2112      \n",
            "_________________________________________________________________\n",
            "dense_11 (Dense)             (None, None, 1)           65        \n",
            "=================================================================\n",
            "Total params: 838,849\n",
            "Trainable params: 838,849\n",
            "Non-trainable params: 0\n",
            "_________________________________________________________________\n"
          ],
          "name": "stdout"
        }
      ]
    },
    {
      "cell_type": "code",
      "metadata": {
        "id": "JINiT4LXgl4o"
      },
      "source": [
        ""
      ],
      "execution_count": null,
      "outputs": []
    },
    {
      "cell_type": "code",
      "metadata": {
        "id": "u4d1AeMd49ig"
      },
      "source": [
        "model.compile(optimizer='adam',\n",
        "              loss='binary_crossentropy',\n",
        "              metrics=['accuracy'])"
      ],
      "execution_count": 32,
      "outputs": []
    },
    {
      "cell_type": "code",
      "metadata": {
        "colab": {
          "base_uri": "https://localhost:8080/"
        },
        "id": "O3cFAQbHkOrk",
        "outputId": "71eb74d3-ef3f-4053-8351-a08aa3fe4729"
      },
      "source": [
        "early_stopping = EarlyStopping(monitor='loss', patience=3)\n",
        "\n",
        "history = model.fit(X_train_seq_pad, y_train, validation_data=(X_test_seq_pad, y_test), batch_size=batch_size, epochs=32, callbacks=[early_stopping])"
      ],
      "execution_count": 33,
      "outputs": [
        {
          "output_type": "stream",
          "text": [
            "Epoch 1/32\n",
            "42/42 [==============================] - 14s 260ms/step - loss: 0.6592 - accuracy: 0.6458 - val_loss: 0.5915 - val_accuracy: 0.7324\n",
            "Epoch 2/32\n",
            "42/42 [==============================] - 10s 249ms/step - loss: 0.5989 - accuracy: 0.7183 - val_loss: 0.5838 - val_accuracy: 0.7324\n",
            "Epoch 3/32\n",
            "42/42 [==============================] - 10s 250ms/step - loss: 0.6022 - accuracy: 0.7118 - val_loss: 0.5820 - val_accuracy: 0.7324\n",
            "Epoch 4/32\n",
            "42/42 [==============================] - 10s 250ms/step - loss: 0.5878 - accuracy: 0.7253 - val_loss: 0.5833 - val_accuracy: 0.7324\n",
            "Epoch 5/32\n",
            "42/42 [==============================] - 11s 252ms/step - loss: 0.5914 - accuracy: 0.7197 - val_loss: 0.5855 - val_accuracy: 0.7324\n",
            "Epoch 6/32\n",
            "42/42 [==============================] - 10s 250ms/step - loss: 0.5909 - accuracy: 0.7175 - val_loss: 0.5836 - val_accuracy: 0.7323\n",
            "Epoch 7/32\n",
            "42/42 [==============================] - 11s 254ms/step - loss: 0.5902 - accuracy: 0.7144 - val_loss: 0.5832 - val_accuracy: 0.7318\n",
            "Epoch 8/32\n",
            "42/42 [==============================] - 11s 250ms/step - loss: 0.5751 - accuracy: 0.7266 - val_loss: 0.6061 - val_accuracy: 0.7261\n",
            "Epoch 9/32\n",
            "42/42 [==============================] - 11s 251ms/step - loss: 0.5456 - accuracy: 0.7481 - val_loss: 0.6201 - val_accuracy: 0.7250\n",
            "Epoch 10/32\n",
            "42/42 [==============================] - 11s 251ms/step - loss: 0.5430 - accuracy: 0.7476 - val_loss: 0.6252 - val_accuracy: 0.7274\n",
            "Epoch 11/32\n",
            "42/42 [==============================] - 11s 251ms/step - loss: 0.5418 - accuracy: 0.7424 - val_loss: 0.6302 - val_accuracy: 0.7286\n",
            "Epoch 12/32\n",
            "42/42 [==============================] - 10s 249ms/step - loss: 0.5447 - accuracy: 0.7402 - val_loss: 0.6386 - val_accuracy: 0.7266\n",
            "Epoch 13/32\n",
            "42/42 [==============================] - 10s 247ms/step - loss: 0.5424 - accuracy: 0.7409 - val_loss: 0.6419 - val_accuracy: 0.7262\n",
            "Epoch 14/32\n",
            "42/42 [==============================] - 10s 248ms/step - loss: 0.5434 - accuracy: 0.7371 - val_loss: 0.6489 - val_accuracy: 0.7258\n",
            "Epoch 15/32\n",
            "42/42 [==============================] - 10s 248ms/step - loss: 0.5301 - accuracy: 0.7558 - val_loss: 0.6415 - val_accuracy: 0.7271\n",
            "Epoch 16/32\n",
            "42/42 [==============================] - 11s 251ms/step - loss: 0.5332 - accuracy: 0.7491 - val_loss: 0.6546 - val_accuracy: 0.7268\n",
            "Epoch 17/32\n",
            "42/42 [==============================] - 10s 249ms/step - loss: 0.5418 - accuracy: 0.7393 - val_loss: 0.6591 - val_accuracy: 0.7267\n",
            "Epoch 18/32\n",
            "42/42 [==============================] - 10s 249ms/step - loss: 0.5438 - accuracy: 0.7363 - val_loss: 0.6546 - val_accuracy: 0.7275\n",
            "Epoch 19/32\n",
            "42/42 [==============================] - 11s 253ms/step - loss: 0.5437 - accuracy: 0.7373 - val_loss: 0.6652 - val_accuracy: 0.7263\n",
            "Epoch 20/32\n",
            "42/42 [==============================] - 10s 248ms/step - loss: 0.5341 - accuracy: 0.7476 - val_loss: 0.6696 - val_accuracy: 0.7262\n",
            "Epoch 21/32\n",
            "42/42 [==============================] - 11s 252ms/step - loss: 0.5460 - accuracy: 0.7320 - val_loss: 0.6847 - val_accuracy: 0.7263\n",
            "Epoch 22/32\n",
            "42/42 [==============================] - 10s 249ms/step - loss: 0.5358 - accuracy: 0.7473 - val_loss: 0.6718 - val_accuracy: 0.7278\n",
            "Epoch 23/32\n",
            "42/42 [==============================] - 10s 248ms/step - loss: 0.5351 - accuracy: 0.7460 - val_loss: 0.6747 - val_accuracy: 0.7271\n",
            "Epoch 24/32\n",
            "42/42 [==============================] - 11s 257ms/step - loss: 0.5403 - accuracy: 0.7393 - val_loss: 0.6884 - val_accuracy: 0.7260\n"
          ],
          "name": "stdout"
        }
      ]
    },
    {
      "cell_type": "code",
      "metadata": {
        "id": "wt2ew1mfoYuv",
        "colab": {
          "base_uri": "https://localhost:8080/"
        },
        "outputId": "9dcc57f2-6aa8-4c6f-d9e0-b9036f858e1c"
      },
      "source": [
        "# prediction = \n",
        "# prediction = np.argmax(model.predict(X_test_seq_pad[48]))\n",
        "# prediction\n",
        "\n",
        "# plt.figure(figsize=(10,6))\n",
        "# sns.heatmap(confusion_matrix(test_image_gen.classes,predictions),annot=True)"
      ],
      "execution_count": 35,
      "outputs": [
        {
          "output_type": "execute_result",
          "data": {
            "text/plain": [
              "161"
            ]
          },
          "metadata": {
            "tags": []
          },
          "execution_count": 35
        }
      ]
    },
    {
      "cell_type": "markdown",
      "metadata": {
        "id": "8f79i215ns_O"
      },
      "source": [
        "# Evaluation"
      ]
    },
    {
      "cell_type": "code",
      "metadata": {
        "id": "vcxV7qHxees3"
      },
      "source": [
        ""
      ],
      "execution_count": null,
      "outputs": []
    },
    {
      "cell_type": "code",
      "metadata": {
        "id": "Qc7kl2ODnuk9"
      },
      "source": [
        ""
      ],
      "execution_count": null,
      "outputs": []
    }
  ]
}