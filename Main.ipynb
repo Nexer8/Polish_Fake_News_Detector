{
  "nbformat": 4,
  "nbformat_minor": 0,
  "metadata": {
    "colab": {
      "name": "Main.ipynb",
      "provenance": [],
      "collapsed_sections": [],
      "toc_visible": true,
      "authorship_tag": "ABX9TyNl9QSHFYoFxeuxkye4T4Ao"
    },
    "kernelspec": {
      "name": "python3",
      "display_name": "Python 3"
    },
    "language_info": {
      "name": "python"
    }
  },
  "cells": [
    {
      "cell_type": "markdown",
      "metadata": {
        "id": "cX-nXlspqesI"
      },
      "source": [
        "# Imports"
      ]
    },
    {
      "cell_type": "code",
      "metadata": {
        "colab": {
          "base_uri": "https://localhost:8080/"
        },
        "id": "uxS2kfBwqdar",
        "outputId": "8fba8528-5b34-4061-ef4b-24e1b4883f98"
      },
      "source": [
        "from google.colab import drive\n",
        "drive.mount('/content/drive')\n",
        "\n",
        "import pandas as pd\n",
        "import numpy as np\n",
        "import seaborn as sns\n",
        "import re, string\n",
        "from sklearn.feature_extraction.text import CountVectorizer, TfidfVectorizer\n",
        "from sklearn.model_selection import train_test_split\n",
        "from keras.layers import Dense, Embedding, LSTM\n",
        "from keras.models import Sequential\n",
        "from keras.preprocessing.sequence import pad_sequences\n",
        "from keras.preprocessing.text import Tokenizer\n"
      ],
      "execution_count": null,
      "outputs": [
        {
          "output_type": "stream",
          "text": [
            "Drive already mounted at /content/drive; to attempt to forcibly remount, call drive.mount(\"/content/drive\", force_remount=True).\n"
          ],
          "name": "stdout"
        }
      ]
    },
    {
      "cell_type": "code",
      "metadata": {
        "id": "7rvdXqfSKPXc"
      },
      "source": [
        ""
      ],
      "execution_count": null,
      "outputs": []
    },
    {
      "cell_type": "markdown",
      "metadata": {
        "id": "8c1FijT1mrnh"
      },
      "source": [
        "# Data loading"
      ]
    },
    {
      "cell_type": "code",
      "metadata": {
        "id": "-dy75juyZrT2",
        "colab": {
          "base_uri": "https://localhost:8080/",
          "height": 419
        },
        "outputId": "18107dde-da90-4da7-cb13-cf8a4c3002fb"
      },
      "source": [
        "data_path = '/content/drive/MyDrive/ZIwG P/citations.csv'\n",
        "pd.set_option('display.max_rows', 10)\n",
        "pd.set_option('display.max_colwidth', 120)\n",
        "\n",
        "df = pd.read_csv(data_path)\n",
        "df = df.dropna()\n",
        "df = df.reset_index(drop=True)\n",
        "# df.info()\n",
        "\n",
        "\n",
        "df['label'].replace({'Fałsz': 0, 'Prawda': 1, 'Manipulacja': 2, 'Nieweryfikowalne': 3}, inplace=True)\n",
        "# X.head()\n",
        "# y.head(10)\n",
        "df"
      ],
      "execution_count": null,
      "outputs": [
        {
          "output_type": "execute_result",
          "data": {
            "text/html": [
              "<div>\n",
              "<style scoped>\n",
              "    .dataframe tbody tr th:only-of-type {\n",
              "        vertical-align: middle;\n",
              "    }\n",
              "\n",
              "    .dataframe tbody tr th {\n",
              "        vertical-align: top;\n",
              "    }\n",
              "\n",
              "    .dataframe thead th {\n",
              "        text-align: right;\n",
              "    }\n",
              "</style>\n",
              "<table border=\"1\" class=\"dataframe\">\n",
              "  <thead>\n",
              "    <tr style=\"text-align: right;\">\n",
              "      <th></th>\n",
              "      <th>content</th>\n",
              "      <th>author</th>\n",
              "      <th>label</th>\n",
              "    </tr>\n",
              "  </thead>\n",
              "  <tbody>\n",
              "    <tr>\n",
              "      <th>0</th>\n",
              "      <td>O ile my podnieśliśmy pensję minimalną w czasie 8 lat? (…) o ponad 90 proc.</td>\n",
              "      <td>Izabela Leszczyna</td>\n",
              "      <td>0</td>\n",
              "    </tr>\n",
              "    <tr>\n",
              "      <th>1</th>\n",
              "      <td>W rankingu praworządności World Justice Project w 2020 r. Polska znów spadła na niższą pozycję.</td>\n",
              "      <td>Hanna Gill-Piątek</td>\n",
              "      <td>1</td>\n",
              "    </tr>\n",
              "    <tr>\n",
              "      <th>2</th>\n",
              "      <td>Na Uniwersytecie Warszawskim powstał taki raport, który jest oczywiście państwu znany, z którego wyraźnie wynika, że...</td>\n",
              "      <td>Dariusz Rosati</td>\n",
              "      <td>1</td>\n",
              "    </tr>\n",
              "    <tr>\n",
              "      <th>3</th>\n",
              "      <td>Średnia emerytura w Polsce kobiet i mężczyzn różni się aż o 1000 zł.</td>\n",
              "      <td>Małgorzata Kidawa-Błońska</td>\n",
              "      <td>1</td>\n",
              "    </tr>\n",
              "    <tr>\n",
              "      <th>4</th>\n",
              "      <td>Proszę mi pokazać (…) jedną osobę skazaną przez Trybunał Stanu od czasu, kiedy Trybunał Stanu w Polsce, wolnej, tak ...</td>\n",
              "      <td>Paweł Kukiz</td>\n",
              "      <td>0</td>\n",
              "    </tr>\n",
              "    <tr>\n",
              "      <th>...</th>\n",
              "      <td>...</td>\n",
              "      <td>...</td>\n",
              "      <td>...</td>\n",
              "    </tr>\n",
              "    <tr>\n",
              "      <th>4332</th>\n",
              "      <td>Jeżeli chodzi o penalizację homoseksualizmu, to w Polsce nigdy czegoś takiego nie było. Ani za I Rzeczypospolitej, a...</td>\n",
              "      <td>Kosma Złotowski</td>\n",
              "      <td>0</td>\n",
              "    </tr>\n",
              "    <tr>\n",
              "      <th>4333</th>\n",
              "      <td>Rządowy Fundusz Inwestycji Lokalnych na Pomorzu – największy beneficjent gmina miasta Gdańsk.</td>\n",
              "      <td>Marcin Horała</td>\n",
              "      <td>1</td>\n",
              "    </tr>\n",
              "    <tr>\n",
              "      <th>4334</th>\n",
              "      <td>Zarówno WHO, EMA, czyli Europejska Agencja Leków, jak i polskie instytucje, w tym Urząd Rejestracji Produktów Leczni...</td>\n",
              "      <td>Michał Dworczyk</td>\n",
              "      <td>1</td>\n",
              "    </tr>\n",
              "    <tr>\n",
              "      <th>4335</th>\n",
              "      <td>W żadnym z tych krajów (które zawiesiły stosowanie szczepionki AstraZeneca – przyp. Demagog) nie ustalono, że taki z...</td>\n",
              "      <td>Michał Dworczyk</td>\n",
              "      <td>1</td>\n",
              "    </tr>\n",
              "    <tr>\n",
              "      <th>4336</th>\n",
              "      <td>Warto przypomnieć, że Platforma Obywatelska w roku 2014 wzięła z OFE do budżetu wprost (…) ponad 150 mld zł.</td>\n",
              "      <td>Jarosław Sellin</td>\n",
              "      <td>2</td>\n",
              "    </tr>\n",
              "  </tbody>\n",
              "</table>\n",
              "<p>4337 rows × 3 columns</p>\n",
              "</div>"
            ],
            "text/plain": [
              "                                                                                                                      content  ... label\n",
              "0                                                 O ile my podnieśliśmy pensję minimalną w czasie 8 lat? (…) o ponad 90 proc.  ...     0\n",
              "1                             W rankingu praworządności World Justice Project w 2020 r. Polska znów spadła na niższą pozycję.  ...     1\n",
              "2     Na Uniwersytecie Warszawskim powstał taki raport, który jest oczywiście państwu znany, z którego wyraźnie wynika, że...  ...     1\n",
              "3                                                        Średnia emerytura w Polsce kobiet i mężczyzn różni się aż o 1000 zł.  ...     1\n",
              "4     Proszę mi pokazać (…) jedną osobę skazaną przez Trybunał Stanu od czasu, kiedy Trybunał Stanu w Polsce, wolnej, tak ...  ...     0\n",
              "...                                                                                                                       ...  ...   ...\n",
              "4332  Jeżeli chodzi o penalizację homoseksualizmu, to w Polsce nigdy czegoś takiego nie było. Ani za I Rzeczypospolitej, a...  ...     0\n",
              "4333                            Rządowy Fundusz Inwestycji Lokalnych na Pomorzu – największy beneficjent gmina miasta Gdańsk.  ...     1\n",
              "4334  Zarówno WHO, EMA, czyli Europejska Agencja Leków, jak i polskie instytucje, w tym Urząd Rejestracji Produktów Leczni...  ...     1\n",
              "4335  W żadnym z tych krajów (które zawiesiły stosowanie szczepionki AstraZeneca – przyp. Demagog) nie ustalono, że taki z...  ...     1\n",
              "4336             Warto przypomnieć, że Platforma Obywatelska w roku 2014 wzięła z OFE do budżetu wprost (…) ponad 150 mld zł.  ...     2\n",
              "\n",
              "[4337 rows x 3 columns]"
            ]
          },
          "metadata": {
            "tags": []
          },
          "execution_count": 2
        }
      ]
    },
    {
      "cell_type": "markdown",
      "metadata": {
        "id": "8iOqXFSDmxdw"
      },
      "source": [
        "# Text preprocessing"
      ]
    },
    {
      "cell_type": "code",
      "metadata": {
        "id": "ah8YXWTVZ0A7"
      },
      "source": [
        "def remove_punctuation(text):\n",
        "    no_punctuation_text = \"\".join([char for char in text if char not in string.punctuation])\n",
        "    return no_punctuation_text\n",
        "\n",
        "\n",
        "def tokenize(text):\n",
        "    tokens = re.split('\\W+', text)\n",
        "    text = [word for word in tokens]\n",
        "    return text\n",
        "\n",
        "\n",
        "def lemmatizing(text):\n",
        "    #TODO when we get polish lemmatizer\n",
        "    pass\n",
        "\n",
        "\n",
        "#TODO when we decide what how to preprocess text\n",
        "# now it is just copy-paste from online course\n",
        "def clean_text(text):\n",
        "    text = \"\".join([word.lower() for word in text if word not in string.punctuation])\n",
        "    tokens = re.split('\\W+', text)\n",
        "    text = [word for word in tokens]\n",
        "    return text"
      ],
      "execution_count": null,
      "outputs": []
    },
    {
      "cell_type": "code",
      "metadata": {
        "colab": {
          "base_uri": "https://localhost:8080/",
          "height": 272
        },
        "id": "lZ7-2hMpVSxG",
        "outputId": "db5d68e7-69ff-4db2-8aec-dd0f4fa626c9"
      },
      "source": [
        "df['clean_text'] = df['content'].apply(lambda x: clean_text(x))\n",
        "df.head()"
      ],
      "execution_count": null,
      "outputs": [
        {
          "output_type": "execute_result",
          "data": {
            "text/html": [
              "<div>\n",
              "<style scoped>\n",
              "    .dataframe tbody tr th:only-of-type {\n",
              "        vertical-align: middle;\n",
              "    }\n",
              "\n",
              "    .dataframe tbody tr th {\n",
              "        vertical-align: top;\n",
              "    }\n",
              "\n",
              "    .dataframe thead th {\n",
              "        text-align: right;\n",
              "    }\n",
              "</style>\n",
              "<table border=\"1\" class=\"dataframe\">\n",
              "  <thead>\n",
              "    <tr style=\"text-align: right;\">\n",
              "      <th></th>\n",
              "      <th>content</th>\n",
              "      <th>author</th>\n",
              "      <th>label</th>\n",
              "      <th>clean_text</th>\n",
              "    </tr>\n",
              "  </thead>\n",
              "  <tbody>\n",
              "    <tr>\n",
              "      <th>0</th>\n",
              "      <td>O ile my podnieśliśmy pensję minimalną w czasie 8 lat? (…) o ponad 90 proc.</td>\n",
              "      <td>Izabela Leszczyna</td>\n",
              "      <td>0</td>\n",
              "      <td>[o, ile, my, podnieśliśmy, pensję, minimalną, w, czasie, 8, lat, o, ponad, 90, proc]</td>\n",
              "    </tr>\n",
              "    <tr>\n",
              "      <th>1</th>\n",
              "      <td>W rankingu praworządności World Justice Project w 2020 r. Polska znów spadła na niższą pozycję.</td>\n",
              "      <td>Hanna Gill-Piątek</td>\n",
              "      <td>1</td>\n",
              "      <td>[w, rankingu, praworządności, world, justice, project, w, 2020, r, polska, znów, spadła, na, niższą, pozycję]</td>\n",
              "    </tr>\n",
              "    <tr>\n",
              "      <th>2</th>\n",
              "      <td>Na Uniwersytecie Warszawskim powstał taki raport, który jest oczywiście państwu znany, z którego wyraźnie wynika, że...</td>\n",
              "      <td>Dariusz Rosati</td>\n",
              "      <td>1</td>\n",
              "      <td>[na, uniwersytecie, warszawskim, powstał, taki, raport, który, jest, oczywiście, państwu, znany, z, którego, wyraźni...</td>\n",
              "    </tr>\n",
              "    <tr>\n",
              "      <th>3</th>\n",
              "      <td>Średnia emerytura w Polsce kobiet i mężczyzn różni się aż o 1000 zł.</td>\n",
              "      <td>Małgorzata Kidawa-Błońska</td>\n",
              "      <td>1</td>\n",
              "      <td>[średnia, emerytura, w, polsce, kobiet, i, mężczyzn, różni, się, aż, o, 1000, zł]</td>\n",
              "    </tr>\n",
              "    <tr>\n",
              "      <th>4</th>\n",
              "      <td>Proszę mi pokazać (…) jedną osobę skazaną przez Trybunał Stanu od czasu, kiedy Trybunał Stanu w Polsce, wolnej, tak ...</td>\n",
              "      <td>Paweł Kukiz</td>\n",
              "      <td>0</td>\n",
              "      <td>[proszę, mi, pokazać, jedną, osobę, skazaną, przez, trybunał, stanu, od, czasu, kiedy, trybunał, stanu, w, polsce, w...</td>\n",
              "    </tr>\n",
              "  </tbody>\n",
              "</table>\n",
              "</div>"
            ],
            "text/plain": [
              "                                                                                                                   content  ...                                                                                                               clean_text\n",
              "0                                              O ile my podnieśliśmy pensję minimalną w czasie 8 lat? (…) o ponad 90 proc.  ...                                     [o, ile, my, podnieśliśmy, pensję, minimalną, w, czasie, 8, lat, o, ponad, 90, proc]\n",
              "1                          W rankingu praworządności World Justice Project w 2020 r. Polska znów spadła na niższą pozycję.  ...            [w, rankingu, praworządności, world, justice, project, w, 2020, r, polska, znów, spadła, na, niższą, pozycję]\n",
              "2  Na Uniwersytecie Warszawskim powstał taki raport, który jest oczywiście państwu znany, z którego wyraźnie wynika, że...  ...  [na, uniwersytecie, warszawskim, powstał, taki, raport, który, jest, oczywiście, państwu, znany, z, którego, wyraźni...\n",
              "3                                                     Średnia emerytura w Polsce kobiet i mężczyzn różni się aż o 1000 zł.  ...                                        [średnia, emerytura, w, polsce, kobiet, i, mężczyzn, różni, się, aż, o, 1000, zł]\n",
              "4  Proszę mi pokazać (…) jedną osobę skazaną przez Trybunał Stanu od czasu, kiedy Trybunał Stanu w Polsce, wolnej, tak ...  ...  [proszę, mi, pokazać, jedną, osobę, skazaną, przez, trybunał, stanu, od, czasu, kiedy, trybunał, stanu, w, polsce, w...\n",
              "\n",
              "[5 rows x 4 columns]"
            ]
          },
          "metadata": {
            "tags": []
          },
          "execution_count": 4
        }
      ]
    },
    {
      "cell_type": "code",
      "metadata": {
        "id": "JHbMIcgGt8xf"
      },
      "source": [
        "X_train, X_test, y_train, y_test = train_test_split(df['clean_text'], df['label'], test_size=0.2)"
      ],
      "execution_count": null,
      "outputs": []
    },
    {
      "cell_type": "markdown",
      "metadata": {
        "id": "5RpIZNAcSYI3"
      },
      "source": [
        "## Vectorization"
      ]
    },
    {
      "cell_type": "markdown",
      "metadata": {
        "id": "M29--NLvSgJ7"
      },
      "source": [
        "### N-gram"
      ]
    },
    {
      "cell_type": "code",
      "metadata": {
        "id": "SqQnNTC3ScdN"
      },
      "source": [
        "# range = (2, 2)\n",
        "\n",
        "# ngram_vect = CountVectorizer(ngram_range=range)\n",
        "# X_ngram = ngram_vect.fit_transform(X['content'])\n",
        "\n",
        "# X_ngram_df = pd.DataFrame(X_ngram.toarray())\n",
        "# X_ngram_df.columns = ngram_vect.get_feature_names()\n",
        "# X_ngram_df"
      ],
      "execution_count": null,
      "outputs": []
    },
    {
      "cell_type": "markdown",
      "metadata": {
        "id": "lYny71hQSlGb"
      },
      "source": [
        "### TF-IDF"
      ]
    },
    {
      "cell_type": "code",
      "metadata": {
        "id": "q1AM3pFYSk1-"
      },
      "source": [
        "# tfidf_vect = TfidfVectorizer()\n",
        "# tfidf_vect.fit(X_train['content'])\n",
        "\n",
        "# X_train_vect = tfidf_vect.transform(X_train['content'])\n",
        "# X_test_vect = tfidf_vect.transform(X_test['content'])"
      ],
      "execution_count": null,
      "outputs": []
    },
    {
      "cell_type": "code",
      "metadata": {
        "id": "NpQ-Ho-ddM-O"
      },
      "source": [
        "# X_test_vect[0].toarray()"
      ],
      "execution_count": null,
      "outputs": []
    },
    {
      "cell_type": "markdown",
      "metadata": {
        "id": "RFJCT-KhnedH"
      },
      "source": [
        "# Model nr 1"
      ]
    },
    {
      "cell_type": "code",
      "metadata": {
        "id": "Rw2jDsLrZ1pf"
      },
      "source": [
        ""
      ],
      "execution_count": null,
      "outputs": []
    },
    {
      "cell_type": "markdown",
      "metadata": {
        "id": "3cUrdk4NniCS"
      },
      "source": [
        "# Model nr 2"
      ]
    },
    {
      "cell_type": "code",
      "metadata": {
        "id": "tDcT0PuXac4i"
      },
      "source": [
        ""
      ],
      "execution_count": null,
      "outputs": []
    },
    {
      "cell_type": "markdown",
      "metadata": {
        "id": "E-I33FR-nnJg"
      },
      "source": [
        "# Deep Learning"
      ]
    },
    {
      "cell_type": "code",
      "metadata": {
        "id": "q1mEUfPj_Oq9"
      },
      "source": [
        "tokenizer = Tokenizer()\n",
        "tokenizer.fit_on_texts(X_train)\n",
        "X_train_seq = tokenizer.texts_to_sequences(X_train)\n",
        "X_test_seq = tokenizer.texts_to_sequences(X_test)\n",
        "\n",
        "X_train_seq_pad = pad_sequences(X_train_seq, 5000)\n",
        "X_test_seq_pad = pad_sequences(X_test_seq, 5000)\n",
        "\n"
      ],
      "execution_count": null,
      "outputs": []
    },
    {
      "cell_type": "markdown",
      "metadata": {
        "id": "0wMFQUxR4A_W"
      },
      "source": [
        "## RNN model"
      ]
    },
    {
      "cell_type": "code",
      "metadata": {
        "id": "iHU2UZnyeBZS",
        "colab": {
          "base_uri": "https://localhost:8080/"
        },
        "outputId": "c081ebf9-5b3a-480a-9eae-37a529e9b240"
      },
      "source": [
        "model = Sequential()\n",
        "\n",
        "model.add(Embedding(len(tokenizer.index_word)+1, 32))\n",
        "model.add(LSTM(32, dropout=0, recurrent_dropout=0))\n",
        "model.add(Dense(32, activation='relu'))\n",
        "model.add(Dense(1, activation='softmax'))\n",
        "model.summary()"
      ],
      "execution_count": null,
      "outputs": [
        {
          "output_type": "stream",
          "text": [
            "Model: \"sequential\"\n",
            "_________________________________________________________________\n",
            "Layer (type)                 Output Shape              Param #   \n",
            "=================================================================\n",
            "embedding (Embedding)        (None, None, 32)          491808    \n",
            "_________________________________________________________________\n",
            "lstm (LSTM)                  (None, 32)                8320      \n",
            "_________________________________________________________________\n",
            "dense (Dense)                (None, 32)                1056      \n",
            "_________________________________________________________________\n",
            "dense_1 (Dense)              (None, 1)                 33        \n",
            "=================================================================\n",
            "Total params: 501,217\n",
            "Trainable params: 501,217\n",
            "Non-trainable params: 0\n",
            "_________________________________________________________________\n"
          ],
          "name": "stdout"
        }
      ]
    },
    {
      "cell_type": "code",
      "metadata": {
        "id": "u4d1AeMd49ig"
      },
      "source": [
        "model.compile(optimizer='adam',\n",
        "              loss='categorical_crossentropy',\n",
        "              metrics=['accuracy'])"
      ],
      "execution_count": null,
      "outputs": []
    },
    {
      "cell_type": "code",
      "metadata": {
        "colab": {
          "base_uri": "https://localhost:8080/"
        },
        "id": "O3cFAQbHkOrk",
        "outputId": "41fe4ae9-8db8-4988-ee3b-d9860b846779"
      },
      "source": [
        "history = model.fit(X_train_seq_pad, y_train, validation_data=(X_test_seq_pad, y_test), batch_size=64, epochs=20)"
      ],
      "execution_count": null,
      "outputs": [
        {
          "output_type": "stream",
          "text": [
            "Epoch 1/20\n",
            "55/55 [==============================] - 247s 4s/step - loss: 0.0000e+00 - accuracy: 0.5912 - val_loss: 0.0000e+00 - val_accuracy: 0.5829\n",
            "Epoch 2/20\n",
            "55/55 [==============================] - 255s 5s/step - loss: 0.0000e+00 - accuracy: 0.5861 - val_loss: 0.0000e+00 - val_accuracy: 0.5829\n",
            "Epoch 3/20\n",
            "55/55 [==============================] - 257s 5s/step - loss: 0.0000e+00 - accuracy: 0.5910 - val_loss: 0.0000e+00 - val_accuracy: 0.5829\n",
            "Epoch 4/20\n",
            "55/55 [==============================] - 258s 5s/step - loss: 0.0000e+00 - accuracy: 0.5921 - val_loss: 0.0000e+00 - val_accuracy: 0.5829\n",
            "Epoch 5/20\n",
            "55/55 [==============================] - 256s 5s/step - loss: 0.0000e+00 - accuracy: 0.5949 - val_loss: 0.0000e+00 - val_accuracy: 0.5829\n",
            "Epoch 6/20\n",
            "55/55 [==============================] - 257s 5s/step - loss: 0.0000e+00 - accuracy: 0.5971 - val_loss: 0.0000e+00 - val_accuracy: 0.5829\n",
            "Epoch 7/20\n",
            "55/55 [==============================] - 257s 5s/step - loss: 0.0000e+00 - accuracy: 0.5922 - val_loss: 0.0000e+00 - val_accuracy: 0.5829\n",
            "Epoch 8/20\n",
            "55/55 [==============================] - 256s 5s/step - loss: 0.0000e+00 - accuracy: 0.5950 - val_loss: 0.0000e+00 - val_accuracy: 0.5829\n",
            "Epoch 9/20\n",
            "55/55 [==============================] - 256s 5s/step - loss: 0.0000e+00 - accuracy: 0.6038 - val_loss: 0.0000e+00 - val_accuracy: 0.5829\n",
            "Epoch 10/20\n",
            "55/55 [==============================] - 255s 5s/step - loss: 0.0000e+00 - accuracy: 0.6032 - val_loss: 0.0000e+00 - val_accuracy: 0.5829\n",
            "Epoch 11/20\n",
            "55/55 [==============================] - 255s 5s/step - loss: 0.0000e+00 - accuracy: 0.5863 - val_loss: 0.0000e+00 - val_accuracy: 0.5829\n",
            "Epoch 12/20\n",
            "55/55 [==============================] - 255s 5s/step - loss: 0.0000e+00 - accuracy: 0.6063 - val_loss: 0.0000e+00 - val_accuracy: 0.5829\n",
            "Epoch 13/20\n",
            "55/55 [==============================] - 255s 5s/step - loss: 0.0000e+00 - accuracy: 0.5891 - val_loss: 0.0000e+00 - val_accuracy: 0.5829\n",
            "Epoch 14/20\n",
            "55/55 [==============================] - 255s 5s/step - loss: 0.0000e+00 - accuracy: 0.6004 - val_loss: 0.0000e+00 - val_accuracy: 0.5829\n",
            "Epoch 15/20\n",
            "55/55 [==============================] - 255s 5s/step - loss: 0.0000e+00 - accuracy: 0.5989 - val_loss: 0.0000e+00 - val_accuracy: 0.5829\n",
            "Epoch 16/20\n",
            "55/55 [==============================] - 255s 5s/step - loss: 0.0000e+00 - accuracy: 0.5930 - val_loss: 0.0000e+00 - val_accuracy: 0.5829\n",
            "Epoch 17/20\n",
            "55/55 [==============================] - 256s 5s/step - loss: 0.0000e+00 - accuracy: 0.6107 - val_loss: 0.0000e+00 - val_accuracy: 0.5829\n",
            "Epoch 18/20\n",
            "55/55 [==============================] - 255s 5s/step - loss: 0.0000e+00 - accuracy: 0.5932 - val_loss: 0.0000e+00 - val_accuracy: 0.5829\n",
            "Epoch 19/20\n",
            "55/55 [==============================] - 256s 5s/step - loss: 0.0000e+00 - accuracy: 0.5904 - val_loss: 0.0000e+00 - val_accuracy: 0.5829\n",
            "Epoch 20/20\n",
            "55/55 [==============================] - 256s 5s/step - loss: 0.0000e+00 - accuracy: 0.5933 - val_loss: 0.0000e+00 - val_accuracy: 0.5829\n"
          ],
          "name": "stdout"
        }
      ]
    },
    {
      "cell_type": "code",
      "metadata": {
        "id": "wt2ew1mfoYuv",
        "colab": {
          "base_uri": "https://localhost:8080/"
        },
        "outputId": "f18bdf3d-4dff-4ee1-e8ca-2b2b665620dc"
      },
      "source": [
        "# X_train_seq_pad[0]\n",
        "\n",
        "prediction = model.predict(X_train_seq_pad[50])\n",
        "prediction\n",
        "# predictions = np.argmax(model.predict(test_image_gen), axis=-1)\n",
        "\n",
        "# plt.figure(figsize=(10,6))\n",
        "# sns.heatmap(confusion_matrix(test_image_gen.classes,predictions),annot=True)"
      ],
      "execution_count": 27,
      "outputs": [
        {
          "output_type": "execute_result",
          "data": {
            "text/plain": [
              "array([[1.],\n",
              "       [1.],\n",
              "       [1.],\n",
              "       ...,\n",
              "       [1.],\n",
              "       [1.],\n",
              "       [1.]], dtype=float32)"
            ]
          },
          "metadata": {
            "tags": []
          },
          "execution_count": 27
        }
      ]
    },
    {
      "cell_type": "markdown",
      "metadata": {
        "id": "8f79i215ns_O"
      },
      "source": [
        "# Evaluation"
      ]
    },
    {
      "cell_type": "code",
      "metadata": {
        "id": "vcxV7qHxees3"
      },
      "source": [
        ""
      ],
      "execution_count": null,
      "outputs": []
    },
    {
      "cell_type": "code",
      "metadata": {
        "id": "Qc7kl2ODnuk9"
      },
      "source": [
        ""
      ],
      "execution_count": null,
      "outputs": []
    }
  ]
}